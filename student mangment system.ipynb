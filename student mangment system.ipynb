{
 "cells": [
  {
   "cell_type": "code",
   "execution_count": 1,
   "id": "b1de02a7-d29e-4a6a-b0ab-f50ce7cd727c",
   "metadata": {},
   "outputs": [],
   "source": [
    "import numpy as np"
   ]
  },
  {
   "cell_type": "code",
   "execution_count": 7,
   "id": "d77afae9-f575-4ee5-bba3-c4c48efaa831",
   "metadata": {},
   "outputs": [
    {
     "name": "stdout",
     "output_type": "stream",
     "text": [
      "please select an option below\n",
      "1.Accept\n",
      "2.Display\n",
      "3.Search\n",
      "4.delete\n",
      "5.update\n"
     ]
    },
    {
     "name": "stdin",
     "output_type": "stream",
     "text": [
      " 1\n",
      "enter the name: tom\n",
      "enter the rollno: 4\n",
      "mark1: 60\n",
      "mark2: 68\n",
      "do you want to continue:  yes\n"
     ]
    },
    {
     "name": "stdout",
     "output_type": "stream",
     "text": [
      "please select an option below\n",
      "1.Accept\n",
      "2.Display\n",
      "3.Search\n",
      "4.delete\n",
      "5.update\n"
     ]
    },
    {
     "name": "stdin",
     "output_type": "stream",
     "text": [
      " 1 \n",
      "enter the name: tinto\n",
      "enter the rollno: 4\n",
      "mark1: 50\n",
      "mark2: 67\n",
      "do you want to continue:  yes\n"
     ]
    },
    {
     "name": "stdout",
     "output_type": "stream",
     "text": [
      "please select an option below\n",
      "1.Accept\n",
      "2.Display\n",
      "3.Search\n",
      "4.delete\n",
      "5.update\n"
     ]
    },
    {
     "name": "stdin",
     "output_type": "stream",
     "text": [
      " 2\n"
     ]
    },
    {
     "name": "stdout",
     "output_type": "stream",
     "text": [
      "name:tom,rollno:4,mark1:60,mark2:68\n",
      "name:tinto,rollno:4,mark1:50,mark2:67\n"
     ]
    },
    {
     "name": "stdin",
     "output_type": "stream",
     "text": [
      "do you want to continue:  yes\n"
     ]
    },
    {
     "name": "stdout",
     "output_type": "stream",
     "text": [
      "please select an option below\n",
      "1.Accept\n",
      "2.Display\n",
      "3.Search\n",
      "4.delete\n",
      "5.update\n"
     ]
    },
    {
     "name": "stdin",
     "output_type": "stream",
     "text": [
      " 3\n",
      "enter the rollno you want to search 4\n"
     ]
    },
    {
     "name": "stdout",
     "output_type": "stream",
     "text": [
      "name:tom,rollno:4,mark1:60,mark2:68\n"
     ]
    },
    {
     "name": "stdin",
     "output_type": "stream",
     "text": [
      "do you want to continue:  yes\n"
     ]
    },
    {
     "name": "stdout",
     "output_type": "stream",
     "text": [
      "please select an option below\n",
      "1.Accept\n",
      "2.Display\n",
      "3.Search\n",
      "4.delete\n",
      "5.update\n"
     ]
    },
    {
     "name": "stdin",
     "output_type": "stream",
     "text": [
      " 4\n",
      "enter the rollno you want to delete 4\n"
     ]
    },
    {
     "name": "stdout",
     "output_type": "stream",
     "text": [
      "successfully deleted\n"
     ]
    },
    {
     "name": "stdin",
     "output_type": "stream",
     "text": [
      "do you want to continue:  2\n"
     ]
    }
   ],
   "source": [
    "class student:\n",
    "     def __init__(self):\n",
    "         self.name=[]\n",
    "         self.rollno=[]\n",
    "         self.mark1=[]\n",
    "         self.mark2=[]\n",
    "\n",
    "     def accept(self):\n",
    "         name=input(\"enter the name:\")\n",
    "         rollno=int(input(\"enter the rollno:\"))\n",
    "         mark1=int(input(\"mark1:\"))\n",
    "         mark2=int(input(\"mark2:\"))\n",
    "         self.name.append(name)\n",
    "         self.rollno.append(rollno)\n",
    "         self.mark1.append(mark1)\n",
    "         self.mark2.append(mark2)\n",
    "\n",
    "     def display(self):\n",
    "        for i in range(len(self.rollno)):\n",
    "            print(f\"name:{self.name[i]},rollno:{self.rollno[i]},mark1:{self.mark1[i]},mark2:{self.mark2[i]}\")\n",
    "            \n",
    "     def search(self):\n",
    "         roll=int(input(\"enter the rollno you want to search\"))\n",
    "         if roll in self.rollno:\n",
    "             r_indx=self.rollno.index(roll)\n",
    "             print(f\"name:{self.name[r_indx]},rollno:{self.rollno[r_indx]},mark1:{self.mark1[r_indx]},mark2:{self.mark2[r_indx]}\")\n",
    "         else:\n",
    "             print(\"invalid data\")\n",
    "\n",
    "     def delete(self) :\n",
    "         roll=int(input(\"enter the rollno you want to delete\"))\n",
    "         if roll in self.rollno:\n",
    "             r_indx=self.rollno.index(roll) \n",
    "             self.name.pop(r_indx)\n",
    "             self.rollno.pop(r_indx)\n",
    "             self.mark1.pop(r_indx)\n",
    "             self.mark2.pop(r_indx)\n",
    "             print(\"successfully deleted\")\n",
    "         else:\n",
    "             print(\"invalid data\")\n",
    "\n",
    "     def update(self):\n",
    "        old_roll=int(input(\"enter the rollno you want to change\"))\n",
    "        if old_roll in self.rollno:\n",
    "            r_indx=self.rollno.index(old_roll)\n",
    "            new_roll=int(input(\"enter the new rollno you want to update\"))\n",
    "            self.rollno[r_indx]=new_roll\n",
    "        else:\n",
    "            print('invalid data')\n",
    "s=student() \n",
    "while True:\n",
    "    print(\"please select an option below\")\n",
    "    print(\"1.Accept\\n2.Display\\n3.Search\\n4.delete\\n5.update\")\n",
    "    choice=int(input()) \n",
    "    if(choice==1):\n",
    "        s.accept()\n",
    "    if(choice==2):\n",
    "        s.display()\n",
    "    if(choice==3):\n",
    "        s.search()\n",
    "    if(choice==4):\n",
    "        s.delete()\n",
    "    if(choice==5):\n",
    "        s.update()\n",
    "    if(input(\"do you want to continue: \")=='yes'):\n",
    "        continue\n",
    "    else:\n",
    "        break"
   ]
  },
  {
   "cell_type": "code",
   "execution_count": null,
   "id": "cec3e758-3acd-45e5-afed-767aab676dce",
   "metadata": {},
   "outputs": [],
   "source": []
  }
 ],
 "metadata": {
  "kernelspec": {
   "display_name": "Python 3 (ipykernel)",
   "language": "python",
   "name": "python3"
  },
  "language_info": {
   "codemirror_mode": {
    "name": "ipython",
    "version": 3
   },
   "file_extension": ".py",
   "mimetype": "text/x-python",
   "name": "python",
   "nbconvert_exporter": "python",
   "pygments_lexer": "ipython3",
   "version": "3.12.7"
  }
 },
 "nbformat": 4,
 "nbformat_minor": 5
}
