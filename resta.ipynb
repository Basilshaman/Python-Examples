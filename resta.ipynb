{
 "cells": [
  {
   "cell_type": "code",
   "execution_count": 1,
   "id": "716e2d23-d4d4-43a1-b965-a0a31d9e339e",
   "metadata": {},
   "outputs": [],
   "source": [
    "import numpy as np\n"
   ]
  },
  {
   "cell_type": "code",
   "execution_count": 9,
   "id": "7a9194de-fa90-40f3-b13e-50434d74f12d",
   "metadata": {},
   "outputs": [
    {
     "ename": "SyntaxError",
     "evalue": "positional argument follows keyword argument (1493668239.py, line 18)",
     "output_type": "error",
     "traceback": [
      "\u001b[1;36m  Cell \u001b[1;32mIn[9], line 18\u001b[1;36m\u001b[0m\n\u001b[1;33m    cst1=hotel(menu=[item],costemer_name=['joy'],booked_table=[2],costemer_order['puttu'])\u001b[0m\n\u001b[1;37m                                                                                         ^\u001b[0m\n\u001b[1;31mSyntaxError\u001b[0m\u001b[1;31m:\u001b[0m positional argument follows keyword argument\n"
     ]
    }
   ],
   "source": [
    "class hotel:\n",
    "    def __init__(self,menu,costemer_name,booked_table,costemer_order):\n",
    "        self.menu=menu\n",
    "        self.cst_name=costemer_name\n",
    "        self.booked_table=booked_table\n",
    "        self.costemer_order=costemer_order\n",
    "    def menu(self):\n",
    "        print(f\"menu:{self.menu}\")\n",
    "    def name(self):\n",
    "        print(f\"name:{self.cst_name}\")     \n",
    "    def list_of_item(self):\n",
    "        self.add_item=input('item')\n",
    "        print(self.self.costemer_orde.append(self.add_item))\n",
    "    def table_booked(self):\n",
    "        self.book=int(input())\n",
    "        print(self.booked_table.append(self.booked),self.cst_name)\n",
    "item=['poratta','chappathi','puttu']\n",
    "cst1=hotel(menu=[item],costemer_name=['joy'],booked_table=[2],costemer_order['puttu'])\n",
    "cst2=hotel(item,'dony',4,2*'puttu')\n",
    "        \n",
    "\n",
    "cst1.menu()\n"
   ]
  },
  {
   "cell_type": "code",
   "execution_count": null,
   "id": "54f50baa-c7a0-409c-99b6-7b85b3cacfe1",
   "metadata": {},
   "outputs": [],
   "source": []
  }
 ],
 "metadata": {
  "kernelspec": {
   "display_name": "Python [conda env:anaconda3]",
   "language": "python",
   "name": "conda-env-anaconda3-py"
  },
  "language_info": {
   "codemirror_mode": {
    "name": "ipython",
    "version": 3
   },
   "file_extension": ".py",
   "mimetype": "text/x-python",
   "name": "python",
   "nbconvert_exporter": "python",
   "pygments_lexer": "ipython3",
   "version": "3.12.7"
  }
 },
 "nbformat": 4,
 "nbformat_minor": 5
}
