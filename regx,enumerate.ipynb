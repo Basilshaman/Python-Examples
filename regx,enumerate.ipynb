{
 "cells": [
  {
   "cell_type": "markdown",
   "id": "59adb449-c951-42c3-bb34-4ef5d28afc35",
   "metadata": {},
   "source": [
    "# Enumerate"
   ]
  },
  {
   "cell_type": "code",
   "execution_count": 17,
   "id": "2f77894e-b3d9-4c22-b24b-8328d84b4c93",
   "metadata": {},
   "outputs": [
    {
     "name": "stdout",
     "output_type": "stream",
     "text": [
      "0 s\n",
      "1 t\n",
      "2 r\n",
      "3 i\n",
      "4 n\n",
      "5 r\n",
      "6 g\n"
     ]
    }
   ],
   "source": [
    "pattern='strinrg'\n",
    "for i in range(len(pattern)):\n",
    "    print (i,pattern[i])"
   ]
  },
  {
   "cell_type": "code",
   "execution_count": 14,
   "id": "c5af7fb4-ee7e-4026-b41f-957ea1cb0ee2",
   "metadata": {},
   "outputs": [
    {
     "name": "stdout",
     "output_type": "stream",
     "text": [
      "1 s\n",
      "2 t\n",
      "3 r\n",
      "4 i\n",
      "5 n\n",
      "6 g\n"
     ]
    }
   ],
   "source": [
    "for pos,p in enumerate(pattern,1):\n",
    "    print(pos,p)"
   ]
  },
  {
   "cell_type": "code",
   "execution_count": 18,
   "id": "7b36d4b4-bfc6-4ca6-822e-6f0705ed9eb2",
   "metadata": {},
   "outputs": [
    {
     "data": {
      "text/plain": [
       "((0, 's'), (1, 't'), (2, 'r'), (3, 'i'), (4, 'n'), (5, 'r'), (6, 'g'))"
      ]
     },
     "execution_count": 18,
     "metadata": {},
     "output_type": "execute_result"
    }
   ],
   "source": [
    "tuple(enumerate(pattern))"
   ]
  },
  {
   "cell_type": "code",
   "execution_count": 23,
   "id": "dcf24284-5479-4bf0-9cae-6d9bb215c125",
   "metadata": {},
   "outputs": [
    {
     "data": {
      "text/plain": [
       "{0: 's', 1: 't', 2: 'r', 3: 'i', 4: 'n', 5: 'g'}"
      ]
     },
     "execution_count": 23,
     "metadata": {},
     "output_type": "execute_result"
    }
   ],
   "source": [
    "dict(enumerate('string'))"
   ]
  },
  {
   "cell_type": "code",
   "execution_count": 28,
   "id": "22f56d2b-fd0e-4f6d-a389-af8d656c19b5",
   "metadata": {},
   "outputs": [
    {
     "name": "stdout",
     "output_type": "stream",
     "text": [
      "[(0, 1), (1, 2), (2, 3), (3, 4), (4, 5)]\n"
     ]
    }
   ],
   "source": [
    "a=list(enumerate([1,2,3,4,5]))\n",
    "print(a)"
   ]
  },
  {
   "cell_type": "code",
   "execution_count": 30,
   "id": "e9f499d5-6c46-420a-b86d-64ef41b88045",
   "metadata": {},
   "outputs": [
    {
     "data": {
      "text/plain": [
       "[(0, 's'), (1, 't'), (2, 'r'), (3, 'i'), (4, 'n'), (5, 'r'), (6, 'g')]"
      ]
     },
     "execution_count": 30,
     "metadata": {},
     "output_type": "execute_result"
    }
   ],
   "source": [
    "list(enumerate(pattern))"
   ]
  },
  {
   "cell_type": "markdown",
   "id": "9c932e46-885b-40b6-99e9-f1455c08f9c5",
   "metadata": {},
   "source": [
    "examples"
   ]
  },
  {
   "cell_type": "code",
   "execution_count": 36,
   "id": "e4abe18d-25df-4327-a61d-85f42b443257",
   "metadata": {},
   "outputs": [
    {
     "name": "stdout",
     "output_type": "stream",
     "text": [
      "0 1\n",
      "1 2\n",
      "2 3\n",
      "3 4\n",
      "4 5\n"
     ]
    }
   ],
   "source": [
    "value=[1,2,3,4,5]\n",
    "for m in range(len(value)):\n",
    "    print(m,value[m])"
   ]
  },
  {
   "cell_type": "code",
   "execution_count": 39,
   "id": "ac543f5d-16b0-4e47-89da-24d6219f3532",
   "metadata": {},
   "outputs": [
    {
     "data": {
      "text/plain": [
       "{0: 1, 1: 2, 2: 3, 3: 4, 4: 5}"
      ]
     },
     "execution_count": 39,
     "metadata": {},
     "output_type": "execute_result"
    }
   ],
   "source": [
    "dict(enumerate([1,2,3,4,5]))"
   ]
  },
  {
   "cell_type": "code",
   "execution_count": 40,
   "id": "03c7ccc3-4d4f-41e4-849c-cdaf8fe1e389",
   "metadata": {},
   "outputs": [
    {
     "data": {
      "text/plain": [
       "[(0, 1), (1, 2), (2, 3), (3, 4), (4, 5)]"
      ]
     },
     "execution_count": 40,
     "metadata": {},
     "output_type": "execute_result"
    }
   ],
   "source": [
    "list(enumerate(value))"
   ]
  },
  {
   "cell_type": "code",
   "execution_count": 41,
   "id": "2f940f67-24c2-4220-893d-913d5d7e31a2",
   "metadata": {},
   "outputs": [
    {
     "data": {
      "text/plain": [
       "((0, 1), (1, 2), (2, 3), (3, 4), (4, 5))"
      ]
     },
     "execution_count": 41,
     "metadata": {},
     "output_type": "execute_result"
    }
   ],
   "source": [
    "tuple(enumerate(value))"
   ]
  },
  {
   "cell_type": "markdown",
   "id": "c8adf0c2-d6b4-4880-9611-86d5d13a79ec",
   "metadata": {},
   "source": [
    "# regx"
   ]
  },
  {
   "cell_type": "code",
   "execution_count": 42,
   "id": "01fdd29a-0596-4358-a07a-b0889f5f2839",
   "metadata": {},
   "outputs": [],
   "source": [
    "import re"
   ]
  },
  {
   "cell_type": "code",
   "execution_count": 44,
   "id": "3768da45-345a-43fd-8ad1-7654d2ff8199",
   "metadata": {},
   "outputs": [
    {
     "name": "stdout",
     "output_type": "stream",
     "text": [
      "g\n",
      "\t*\n",
      "g\\n\\t*\n"
     ]
    }
   ],
   "source": [
    "print('g\\n\\t*')\n",
    "print(r'g\\n\\t*')\n"
   ]
  },
  {
   "cell_type": "markdown",
   "id": "d0adcd65-306a-47bf-a5fc-57cc4552afe1",
   "metadata": {},
   "source": [
    "yes or no,index"
   ]
  },
  {
   "cell_type": "code",
   "execution_count": 50,
   "id": "a3b84273-d554-434c-8a26-e15963ce19d2",
   "metadata": {},
   "outputs": [
    {
     "name": "stdout",
     "output_type": "stream",
     "text": [
      "<re.Match object; span=(4, 8), match='1000'>\n"
     ]
    }
   ],
   "source": [
    "patt=r'10*'\n",
    "print(re.search(patt,'abcd1000'))"
   ]
  },
  {
   "cell_type": "code",
   "execution_count": 55,
   "id": "af84cd21-256d-4b34-8553-a57d9c814287",
   "metadata": {},
   "outputs": [
    {
     "name": "stdout",
     "output_type": "stream",
     "text": [
      "<re.Match object; span=(0, 4), match='basi'>\n"
     ]
    }
   ],
   "source": [
    "name=r'basi*'\n",
    "print(re.search(name,'basil shaman'))"
   ]
  },
  {
   "cell_type": "markdown",
   "id": "f0208da6-9d6f-403e-99f4-fe04fcf5070a",
   "metadata": {},
   "source": [
    "last charecter incresing"
   ]
  },
  {
   "cell_type": "code",
   "execution_count": 64,
   "id": "7b17cccb-8ba4-4c4d-9957-29b976e3fa44",
   "metadata": {},
   "outputs": [
    {
     "name": "stdout",
     "output_type": "stream",
     "text": [
      "<re.Match object; span=(5, 11), match='100000'>\n"
     ]
    }
   ],
   "source": [
    "name=r'10+'\n",
    "print(re.search(name,'12345100000'))"
   ]
  },
  {
   "cell_type": "code",
   "execution_count": 66,
   "id": "80b14e74-096f-4156-bc3e-3571e78f9185",
   "metadata": {},
   "outputs": [
    {
     "name": "stdout",
     "output_type": "stream",
     "text": [
      "<re.Match object; span=(8, 19), match='12344444444'>\n"
     ]
    }
   ],
   "source": [
    "name=r'1234444+'\n",
    "print(re.search(name,'jgdthvhg12344444444'))"
   ]
  },
  {
   "cell_type": "code",
   "execution_count": 63,
   "id": "816dcb4d-0012-4207-9f9a-ad1bceb559ed",
   "metadata": {},
   "outputs": [
    {
     "name": "stdout",
     "output_type": "stream",
     "text": [
      "<re.Match object; span=(5, 15), match='basiiiiiii'>\n"
     ]
    }
   ],
   "source": [
    "name=r'basi+'\n",
    "print(re.search(name,'12345basiiiiiii'))"
   ]
  },
  {
   "cell_type": "markdown",
   "id": "3956504e-17f7-41d8-a873-9b08ffd2b29e",
   "metadata": {},
   "source": [
    "start a-z which index start"
   ]
  },
  {
   "cell_type": "code",
   "execution_count": 73,
   "id": "a295d60e-50bd-42c9-9866-b8942c874752",
   "metadata": {},
   "outputs": [
    {
     "name": "stdout",
     "output_type": "stream",
     "text": [
      "<re.Match object; span=(4, 5), match='a'>\n"
     ]
    }
   ],
   "source": [
    "name=r'[a-z]0?'\n",
    "    print(re.search(name,'3476afdrgghzfgh65780068700000000'))"
   ]
  },
  {
   "cell_type": "code",
   "execution_count": 90,
   "id": "e18555e6-81dc-468d-bafa-39833e96adc1",
   "metadata": {},
   "outputs": [
    {
     "name": "stdout",
     "output_type": "stream",
     "text": [
      "<re.Match object; span=(1, 2), match='b'>\n"
     ]
    }
   ],
   "source": [
    "name=r'[b-i]0?'\n",
    "print(re.search(name,'abiahgsil shaman'))"
   ]
  },
  {
   "cell_type": "markdown",
   "id": "9f8cc957-ee21-4ea1-951d-49ee718735e0",
   "metadata": {},
   "source": [
    "last char is{n} number repet"
   ]
  },
  {
   "cell_type": "code",
   "execution_count": 77,
   "id": "f7d78ff3-1982-49d3-af7d-575ad9e5db06",
   "metadata": {},
   "outputs": [
    {
     "name": "stdout",
     "output_type": "stream",
     "text": [
      "<re.Match object; span=(2, 6), match='1000'>\n"
     ]
    }
   ],
   "source": [
    "name=r'10{3}'\n",
    "print(re.search(name,'ab10000000'))"
   ]
  },
  {
   "cell_type": "code",
   "execution_count": 78,
   "id": "53ca2e03-09de-4551-8025-95e4abcf8214",
   "metadata": {},
   "outputs": [
    {
     "name": "stdout",
     "output_type": "stream",
     "text": [
      "<re.Match object; span=(0, 6), match='basiii'>\n"
     ]
    }
   ],
   "source": [
    "name=r'basi{3}'\n",
    "print(re.search(name,'basiiiiiiiwewe'))"
   ]
  },
  {
   "cell_type": "code",
   "execution_count": 79,
   "id": "fc5cd3c0-7c2b-4828-89bd-bf72dba05bc3",
   "metadata": {},
   "outputs": [
    {
     "name": "stdout",
     "output_type": "stream",
     "text": [
      "None\n"
     ]
    }
   ],
   "source": [
    "name=r'basi{3}'\n",
    "print(re.search(name,'bassadDiiiiiiiwewe'))\n"
   ]
  },
  {
   "cell_type": "markdown",
   "id": "b02a2d46-5dc5-4f07-8328-c833df1dd5c0",
   "metadata": {},
   "source": [
    "find a-z &A-Zand'_'and any"
   ]
  },
  {
   "cell_type": "code",
   "execution_count": 87,
   "id": "fc6cbae2-7ece-4fe6-9cbf-c931c149b0a2",
   "metadata": {},
   "outputs": [
    {
     "name": "stdout",
     "output_type": "stream",
     "text": [
      "<re.Match object; span=(0, 17), match='aAabc_defgjhhghij'>\n"
     ]
    }
   ],
   "source": [
    "NAME=r'[a-zA-Z]+_[a-zA-Z]+'\n",
    "print(re.search(NAME,'aAabc_defgjhhghij'))"
   ]
  },
  {
   "cell_type": "markdown",
   "id": "f0b462c8-e948-479f-9ffa-4232ec1d76e0",
   "metadata": {},
   "source": [
    "bob format"
   ]
  },
  {
   "cell_type": "code",
   "execution_count": 95,
   "id": "6b2a3240-9455-49af-b72a-9ab92dbdafc6",
   "metadata": {},
   "outputs": [
    {
     "name": "stdout",
     "output_type": "stream",
     "text": [
      "<re.Match object; span=(0, 10), match='15-04-2334'>\n"
     ]
    }
   ],
   "source": [
    "dob=r'\\d{1,2}-\\d{1,2}-\\d{2,4}'\n",
    "print(re.search(dob,'15-04-2334'))"
   ]
  },
  {
   "cell_type": "markdown",
   "id": "1c7704ca-02b4-4f59-b234-74524e220413",
   "metadata": {},
   "source": [
    "a_z&A-Z and only8"
   ]
  },
  {
   "cell_type": "code",
   "execution_count": 97,
   "id": "ee65ecd2-64a9-4ea4-8721-2e588fabfc7c",
   "metadata": {},
   "outputs": [
    {
     "name": "stdout",
     "output_type": "stream",
     "text": [
      "<re.Match object; span=(0, 8), match='dfdjrted'>\n"
     ]
    }
   ],
   "source": [
    "name=r'[a-zA-Z]{8}'\n",
    "print(re.search(name,'dfdjrtedutrdf'))"
   ]
  },
  {
   "cell_type": "code",
   "execution_count": null,
   "id": "6996a9e1-f10e-423c-a4f0-3635b1ec2a1a",
   "metadata": {},
   "outputs": [],
   "source": [
    "name=r'[a-zA-Z]{8}'\n",
    "print(re.search(name,'dfd2jrtedu1trdf'))"
   ]
  },
  {
   "cell_type": "code",
   "execution_count": 102,
   "id": "2d07195c-387f-472c-ae7d-b28e7dc28986",
   "metadata": {},
   "outputs": [
    {
     "name": "stdout",
     "output_type": "stream",
     "text": [
      "<re.Match object; span=(0, 11), match='basilshaman'>\n"
     ]
    }
   ],
   "source": [
    "name=r'[a-zA-Z]{11}'\n",
    "print(re.search(name,'basilshaman|'))"
   ]
  },
  {
   "cell_type": "markdown",
   "id": "8e7607f4-5d3b-440e-b3fe-8dd71f7002c8",
   "metadata": {},
   "source": [
    "second method"
   ]
  },
  {
   "cell_type": "code",
   "execution_count": 104,
   "id": "c7226fad-1c13-4b4a-9bc2-c1a73a3665aa",
   "metadata": {},
   "outputs": [
    {
     "name": "stdout",
     "output_type": "stream",
     "text": [
      "<re.Match object; span=(0, 11), match='basilshaman'>\n"
     ]
    }
   ],
   "source": [
    "name=r'\\w{11}'\n",
    "print(re.search(name,'basilshaman|'))"
   ]
  },
  {
   "cell_type": "code",
   "execution_count": 106,
   "id": "cabd3723-a542-45d4-b895-89758020840c",
   "metadata": {},
   "outputs": [
    {
     "name": "stdout",
     "output_type": "stream",
     "text": [
      "<re.Match object; span=(0, 13), match='basilshamfhsc'>\n"
     ]
    }
   ],
   "source": [
    "name=r'\\w{13}'\n",
    "print(re.search(name,'basilshamfhscgbgbgbdfan|'))"
   ]
  },
  {
   "cell_type": "markdown",
   "id": "d4e2fef6-bff1-483e-b68c-61ca8128f961",
   "metadata": {},
   "source": [
    "end word"
   ]
  },
  {
   "cell_type": "code",
   "execution_count": 111,
   "id": "1a9dc5b7-b429-427e-a7c8-20881362c5dc",
   "metadata": {},
   "outputs": [
    {
     "name": "stdout",
     "output_type": "stream",
     "text": [
      "<re.Match object; span=(15, 18), match='big'>\n"
     ]
    }
   ],
   "source": [
    "name=r'big$'\n",
    "print(re.search(name,'the college is big'))"
   ]
  },
  {
   "cell_type": "code",
   "execution_count": 114,
   "id": "420069e6-f52d-4c01-82f9-2e2da02c987b",
   "metadata": {},
   "outputs": [
    {
     "name": "stdout",
     "output_type": "stream",
     "text": [
      "None\n"
     ]
    }
   ],
   "source": [
    "name=r'big$'\n",
    "print(re.search(name,'the college is big and small'))"
   ]
  },
  {
   "cell_type": "markdown",
   "id": "4749312b-a27e-4aea-8fd0-78b17ebe5988",
   "metadata": {},
   "source": [
    "staring word"
   ]
  },
  {
   "cell_type": "code",
   "execution_count": 115,
   "id": "a19b71d9-0afd-41f2-9d6f-bf3242dedac0",
   "metadata": {},
   "outputs": [
    {
     "name": "stdout",
     "output_type": "stream",
     "text": [
      "<re.Match object; span=(0, 3), match='the'>\n"
     ]
    }
   ],
   "source": [
    "name=r'^the'\n",
    "print(re.search(name,'the college is big and small'))"
   ]
  },
  {
   "cell_type": "markdown",
   "id": "33a82d22-24a9-47c9-a601-0979a2dd797d",
   "metadata": {},
   "source": [
    "sating and ending words"
   ]
  },
  {
   "cell_type": "code",
   "execution_count": 117,
   "id": "3e276c02-d611-4e92-828e-8f62a2315dee",
   "metadata": {},
   "outputs": [
    {
     "name": "stdout",
     "output_type": "stream",
     "text": [
      "<re.Match object; span=(0, 28), match='the college is big and small'>\n"
     ]
    }
   ],
   "source": [
    "name=r'^the.*small$'\n",
    "print(re.search(name,'the college is big and small'))"
   ]
  },
  {
   "cell_type": "code",
   "execution_count": null,
   "id": "f9b3cfb2-ad58-4fb7-9bff-ab04cfd21b12",
   "metadata": {},
   "outputs": [],
   "source": []
  }
 ],
 "metadata": {
  "kernelspec": {
   "display_name": "Python 3 (ipykernel)",
   "language": "python",
   "name": "python3"
  },
  "language_info": {
   "codemirror_mode": {
    "name": "ipython",
    "version": 3
   },
   "file_extension": ".py",
   "mimetype": "text/x-python",
   "name": "python",
   "nbconvert_exporter": "python",
   "pygments_lexer": "ipython3",
   "version": "3.12.4"
  }
 },
 "nbformat": 4,
 "nbformat_minor": 5
}
