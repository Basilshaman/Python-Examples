{
 "cells": [
  {
   "cell_type": "code",
   "execution_count": 1,
   "id": "6c164138-4564-4199-8559-95d41f41b99b",
   "metadata": {},
   "outputs": [],
   "source": [
    "import re"
   ]
  },
  {
   "cell_type": "code",
   "execution_count": 13,
   "id": "dd190eab-22f8-4233-a1fc-5b6df0b8a360",
   "metadata": {},
   "outputs": [
    {
     "name": "stdout",
     "output_type": "stream",
     "text": [
      "<re.Match object; span=(0, 19), match='Abspmkl12@gmail.com'>\n"
     ]
    }
   ],
   "source": [
    "password=r'[A-Za-z]+[0-9]+@gmail.com'\n",
    "print(re.search(password,'Abspmkl12@gmail.com'))"
   ]
  },
  {
   "cell_type": "code",
   "execution_count": 15,
   "id": "d7807054-48dc-4736-9e45-c6ad9e552d5a",
   "metadata": {},
   "outputs": [
    {
     "name": "stdout",
     "output_type": "stream",
     "text": [
      "None\n"
     ]
    }
   ],
   "source": [
    "password=r'[A-Za-z]+[0-9]+@gmail.com'\n",
    "print(re.search(password,'Abspmkl@gmail.com'))"
   ]
  },
  {
   "cell_type": "markdown",
   "id": "a3b0ecd6-1fe0-44da-9917-0242022dc086",
   "metadata": {},
   "source": [
    "## passoword creation"
   ]
  },
  {
   "cell_type": "code",
   "execution_count": 179,
   "id": "bfa3df1f-8596-4585-95a5-24449aa21568",
   "metadata": {},
   "outputs": [
    {
     "name": "stdout",
     "output_type": "stream",
     "text": [
      "valid\n"
     ]
    }
   ],
   "source": [
    "password=r'[A-Za-z\\d]{8}'\n",
    "if re.search(password,'Abspm789'):\n",
    "    print('valid')\n",
    "else:\n",
    "    print ('invalid')"
   ]
  },
  {
   "cell_type": "code",
   "execution_count": 181,
   "id": "613df1dd-fe67-4c3c-956b-1cbf115bce63",
   "metadata": {},
   "outputs": [
    {
     "name": "stdout",
     "output_type": "stream",
     "text": [
      "invalid\n"
     ]
    }
   ],
   "source": [
    "password=r'[a-z\\d]{8}'\n",
    "if re.search(password,'Aa1bsp12'):\n",
    "    print('valid')\n",
    "else:\n",
    "    print ('invalid')"
   ]
  },
  {
   "cell_type": "code",
   "execution_count": 193,
   "id": "7da5d675-dcd5-40f6-816f-d2e3723d229e",
   "metadata": {},
   "outputs": [
    {
     "name": "stdout",
     "output_type": "stream",
     "text": [
      "valid\n"
     ]
    }
   ],
   "source": [
    "password=r'[A-Za-z\\d]{8}'\n",
    "if re.search(password,'Abspmkl12'):\n",
    "    print('valid')\n",
    "else:\n",
    "    print ('invalid')"
   ]
  },
  {
   "cell_type": "code",
   "execution_count": 189,
   "id": "014f21f1-17ae-4cf1-8edf-0ebb1ac0a6ca",
   "metadata": {},
   "outputs": [
    {
     "name": "stdout",
     "output_type": "stream",
     "text": [
      "valid\n"
     ]
    }
   ],
   "source": [
    "password=r'[A-Z\\d]{8}'\n",
    "if re.search(password,'ABSPMKL1'):\n",
    "    print('valid')\n",
    "else:\n",
    "    print ('invalid')"
   ]
  },
  {
   "cell_type": "code",
   "execution_count": 191,
   "id": "b8611e3b-7312-4b7e-9b48-5dee884f8c5a",
   "metadata": {},
   "outputs": [
    {
     "name": "stdout",
     "output_type": "stream",
     "text": [
      "invalid\n"
     ]
    }
   ],
   "source": [
    "password=r'[A-Z\\d]{8}'\n",
    "if re.search(password,'abspmkl1'):\n",
    "    print('valid')\n",
    "else:\n",
    "    print ('invalid')"
   ]
  },
  {
   "cell_type": "markdown",
   "id": "432a3290-58f5-4d2d-87ce-5acc039a7e9b",
   "metadata": {},
   "source": [
    "## gmail creation"
   ]
  },
  {
   "cell_type": "code",
   "execution_count": 37,
   "id": "d31c123f-3762-4d66-81e1-4407bb431292",
   "metadata": {},
   "outputs": [
    {
     "name": "stdout",
     "output_type": "stream",
     "text": [
      "invalid\n"
     ]
    }
   ],
   "source": [
    "gmail=r'[A-Za-z]+[0-9]+@gmail.com'\n",
    "if re.search(gmail,'Abspmkl@gmail.com'):\n",
    "    print('valid')\n",
    "else:\n",
    "    print ('invalid')"
   ]
  },
  {
   "cell_type": "code",
   "execution_count": 61,
   "id": "6ee6fa47-7ca7-44fa-86d9-7145098cbac3",
   "metadata": {},
   "outputs": [
    {
     "name": "stdout",
     "output_type": "stream",
     "text": [
      "invalid\n"
     ]
    }
   ],
   "source": [
    "gmail=r'[a-z]+[0-9]+@gmail.com'\n",
    "if re.search(gmail,'Abspmkl123'):\n",
    "    print('valid')\n",
    "else:\n",
    "    print ('invalid')"
   ]
  },
  {
   "cell_type": "code",
   "execution_count": 95,
   "id": "2024c8fd-cc3e-4cc9-a89b-22a968f8d6b6",
   "metadata": {},
   "outputs": [
    {
     "name": "stdout",
     "output_type": "stream",
     "text": [
      "valid\n"
     ]
    }
   ],
   "source": [
    "password=r'[a-z]+[0-9]+@gmail.com$'\n",
    "if re.search(password,'bspmkl123@gmail.com'):\n",
    "    print('valid')\n",
    "else:\n",
    "    print ('invalid')"
   ]
  },
  {
   "cell_type": "code",
   "execution_count": 103,
   "id": "1746547a-86b6-4c15-907e-0148afc016d8",
   "metadata": {},
   "outputs": [
    {
     "name": "stdout",
     "output_type": "stream",
     "text": [
      "valid\n"
     ]
    }
   ],
   "source": [
    "password=r'[a-zA-Z][0-9]+@gmail.com$'\n",
    "if re.search(password,'Abspmkl123@gmail.com'):\n",
    "    print('valid')\n",
    "else:\n",
    "    print ('invalid')"
   ]
  },
  {
   "cell_type": "markdown",
   "id": "700263f2-fe9a-4fb9-882e-4528ea3cd733",
   "metadata": {},
   "source": [
    "## phone number checking"
   ]
  },
  {
   "cell_type": "code",
   "execution_count": 44,
   "id": "e42ae8c4-550c-4730-a431-5545cbaa2160",
   "metadata": {},
   "outputs": [
    {
     "name": "stdout",
     "output_type": "stream",
     "text": [
      "incorrect\n"
     ]
    }
   ],
   "source": [
    "number=r'[0-9]{10}'\n",
    "if re.search(number,'64364576d'):\n",
    "    print('correct')\n",
    "else:\n",
    "    print('incorrect')"
   ]
  },
  {
   "cell_type": "code",
   "execution_count": 46,
   "id": "6c01d781-0d17-48ba-ae1f-c155847283c7",
   "metadata": {},
   "outputs": [
    {
     "name": "stdout",
     "output_type": "stream",
     "text": [
      "correct\n"
     ]
    }
   ],
   "source": [
    "number=r'[0-9]{10}'\n",
    "if re.search(number,'6436457600'):\n",
    "    print('correct')\n",
    "else:\n",
    "    print('incorrect')"
   ]
  },
  {
   "cell_type": "code",
   "execution_count": 48,
   "id": "6c28a3cd-9a1b-4b9e-b151-504a89e0d1fc",
   "metadata": {},
   "outputs": [
    {
     "name": "stdout",
     "output_type": "stream",
     "text": [
      "incorrect\n"
     ]
    }
   ],
   "source": [
    "number=r'[0-9]{10}'\n",
    "if re.search(number,'643647600'):\n",
    "    print('correct')\n",
    "else:\n",
    "    print('incorrect')"
   ]
  },
  {
   "cell_type": "code",
   "execution_count": null,
   "id": "e0ac2f96-31c5-499a-8e3b-5d1ab195ff7e",
   "metadata": {},
   "outputs": [],
   "source": []
  }
 ],
 "metadata": {
  "kernelspec": {
   "display_name": "Python [conda env:anaconda3]",
   "language": "python",
   "name": "conda-env-anaconda3-py"
  },
  "language_info": {
   "codemirror_mode": {
    "name": "ipython",
    "version": 3
   },
   "file_extension": ".py",
   "mimetype": "text/x-python",
   "name": "python",
   "nbconvert_exporter": "python",
   "pygments_lexer": "ipython3",
   "version": "3.12.7"
  }
 },
 "nbformat": 4,
 "nbformat_minor": 5
}
