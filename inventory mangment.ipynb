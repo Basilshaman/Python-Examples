{
 "cells": [
  {
   "cell_type": "code",
   "execution_count": 1,
   "id": "b574a688-33b1-47f1-acf7-92fe26657d8a",
   "metadata": {},
   "outputs": [],
   "source": [
    "import numpy as np"
   ]
  },
  {
   "cell_type": "code",
   "execution_count": 36,
   "id": "c7a3537d-7999-4672-9910-59f956ffed6e",
   "metadata": {},
   "outputs": [
    {
     "name": "stdout",
     "output_type": "stream",
     "text": [
      "please select an option below\n",
      "1.Add item\n",
      "2.Check item\n",
      "3.Search\n",
      "4.updat item\n",
      "5.update stock\n"
     ]
    },
    {
     "name": "stdin",
     "output_type": "stream",
     "text": [
      " 1\n",
      "enter identity number: 20001\n",
      "enter name: chappel\n",
      "enter stock: 366\n",
      "enter price: 199\n",
      "do you want to continue:  yes\n"
     ]
    },
    {
     "name": "stdout",
     "output_type": "stream",
     "text": [
      "please select an option below\n",
      "1.Add item\n",
      "2.Check item\n",
      "3.Search\n",
      "4.updat item\n",
      "5.update stock\n"
     ]
    },
    {
     "name": "stdin",
     "output_type": "stream",
     "text": [
      " 1\n",
      "enter identity number: 20002\n",
      "enter name: shoes\n",
      "enter stock: 45000\n",
      "enter price: 999\n",
      "do you want to continue:  yes\n"
     ]
    },
    {
     "name": "stdout",
     "output_type": "stream",
     "text": [
      "please select an option below\n",
      "1.Add item\n",
      "2.Check item\n",
      "3.Search\n",
      "4.updat item\n",
      "5.update stock\n"
     ]
    },
    {
     "name": "stdin",
     "output_type": "stream",
     "text": [
      " 1\n",
      "enter identity number: 20003\n",
      "enter name: boots\n",
      "enter stock: 5009\n",
      "enter price: 799\n",
      "do you want to continue:  yes\n"
     ]
    },
    {
     "name": "stdout",
     "output_type": "stream",
     "text": [
      "please select an option below\n",
      "1.Add item\n",
      "2.Check item\n",
      "3.Search\n",
      "4.updat item\n",
      "5.update stock\n"
     ]
    },
    {
     "name": "stdin",
     "output_type": "stream",
     "text": [
      " 2\n"
     ]
    },
    {
     "name": "stdout",
     "output_type": "stream",
     "text": [
      "name:chappel,id:20001,stock:366,price:199\n",
      "name:shoes,id:20002,stock:45000,price:999\n",
      "name:boots,id:20003,stock:5009,price:799\n"
     ]
    },
    {
     "name": "stdin",
     "output_type": "stream",
     "text": [
      "do you want to continue:  yes\n"
     ]
    },
    {
     "name": "stdout",
     "output_type": "stream",
     "text": [
      "please select an option below\n",
      "1.Add item\n",
      "2.Check item\n",
      "3.Search\n",
      "4.updat item\n",
      "5.update stock\n"
     ]
    },
    {
     "name": "stdin",
     "output_type": "stream",
     "text": [
      " 3\n",
      "enter the id you want to search: 20001\n"
     ]
    },
    {
     "name": "stdout",
     "output_type": "stream",
     "text": [
      "name:chappel,id:20001,stock:366,price:199\n"
     ]
    },
    {
     "name": "stdin",
     "output_type": "stream",
     "text": [
      "do you want to continue:  yes\n"
     ]
    },
    {
     "name": "stdout",
     "output_type": "stream",
     "text": [
      "please select an option below\n",
      "1.Add item\n",
      "2.Check item\n",
      "3.Search\n",
      "4.updat item\n",
      "5.update stock\n"
     ]
    },
    {
     "name": "stdin",
     "output_type": "stream",
     "text": [
      " 4\n",
      "enter id 20004\n",
      "item name: pross\n",
      "enter stock: 3000\n",
      "enter price: 399\n"
     ]
    },
    {
     "name": "stdout",
     "output_type": "stream",
     "text": [
      "Item with ID 20004 has been updated.\n"
     ]
    },
    {
     "name": "stdin",
     "output_type": "stream",
     "text": [
      "do you want to continue:  yes\n"
     ]
    },
    {
     "name": "stdout",
     "output_type": "stream",
     "text": [
      "please select an option below\n",
      "1.Add item\n",
      "2.Check item\n",
      "3.Search\n",
      "4.updat item\n",
      "5.update stock\n"
     ]
    },
    {
     "name": "stdin",
     "output_type": "stream",
     "text": [
      " 2\n"
     ]
    },
    {
     "name": "stdout",
     "output_type": "stream",
     "text": [
      "name:chappel,id:20001,stock:366,price:199\n",
      "name:shoes,id:20002,stock:45000,price:999\n",
      "name:boots,id:20003,stock:5009,price:799\n",
      "name:pross,id:20004,stock:3000,price:399\n"
     ]
    },
    {
     "name": "stdin",
     "output_type": "stream",
     "text": [
      "do you want to continue:  yes\n"
     ]
    },
    {
     "name": "stdout",
     "output_type": "stream",
     "text": [
      "please select an option below\n",
      "1.Add item\n",
      "2.Check item\n",
      "3.Search\n",
      "4.updat item\n",
      "5.update stock\n"
     ]
    },
    {
     "name": "stdin",
     "output_type": "stream",
     "text": [
      " 5\n",
      "Enter item ID:  20001\n",
      "Enter new stock:  3999\n"
     ]
    },
    {
     "name": "stdout",
     "output_type": "stream",
     "text": [
      "Updated stock for item 20001: 4365\n"
     ]
    },
    {
     "name": "stdin",
     "output_type": "stream",
     "text": [
      "do you want to continue:  no\n"
     ]
    }
   ],
   "source": [
    "class inventery:\n",
    "    def __init__(self):\n",
    "        self.item_id=[]\n",
    "        self.item_name=[]\n",
    "        self.item_stock=[]\n",
    "        self.item_price=[]\n",
    "    def add_item(self):\n",
    "        identity_number=int(input('enter identity number:'))\n",
    "        name=input('enter name:')\n",
    "        stock=int(input('enter stock:'))\n",
    "        price=int(input('enter price:'))\n",
    "        self.item_id.append(identity_number)\n",
    "        self.item_name.append(name)\n",
    "        self.item_stock.append(stock)\n",
    "        self.item_price.append(price)\n",
    "    def check_item(self):\n",
    "        for i in range(len(self.item_id)):\n",
    "            print(f\"name:{self.item_name[i]},id:{self.item_id[i]},stock:{self.item_stock[i]},price:{self.item_price[i]}\")\n",
    "    def search(self):\n",
    "         ID=int(input(\"enter the id you want to search:\"))\n",
    "         if ID in self.item_id:\n",
    "             number=self.item_id.index(ID)\n",
    "             print(f\"name:{self.item_name[number]},id:{self.item_id[number]},stock:{self.item_stock[number]},price:{self.item_price[number]}\")\n",
    "         else:\n",
    "             print(\"invalid data\")\n",
    "\n",
    "    def update_list_item(self):\n",
    "        identity_no=int(input(\"enter id\"))\n",
    "        self.item_id.append(identity_no)\n",
    "        \n",
    "        new_name=input('item name:')\n",
    "        self.item_name.append(new_name)\n",
    "        \n",
    "        new_stock=int(input('enter stock:'))\n",
    "        self.item_stock.append(new_stock)\n",
    "       \n",
    "        new_price=int(input(\"enter price:\"))\n",
    "        self.item_price.append(new_price)\n",
    "        print(f\"Item with ID {identity_no} has been updated.\")\n",
    "        \n",
    "        \n",
    "    def update_stock(self):\n",
    "        i = int(input(\"Enter item ID: \"))\n",
    "        if i in self.item_id:\n",
    "            index = self.item_id.index(i)\n",
    "            new_stock = int(input(\"Enter new stock: \"))\n",
    "            self.item_stock[index] += new_stock\n",
    "            print(f\"Updated stock for item {i}: {self.item_stock[index]}\")\n",
    "        else:\n",
    "            print(\"Invalid item ID.\")\n",
    "\n",
    "v=inventery() \n",
    "while True:\n",
    "    print(\"please select an option below\")\n",
    "    print(\"1.Add item\\n2.Check item\\n3.Search\\n4.updat item\\n5.update stock\")\n",
    "    choice=int(input()) \n",
    "    if(choice==1):\n",
    "        v.add_item()\n",
    "    if(choice==2):\n",
    "        v.check_item()\n",
    "    if(choice==3):\n",
    "        v.search()\n",
    "    if(choice==4):\n",
    "        v.update_list_item()\n",
    "    if(choice==5):\n",
    "        v.update_stock()\n",
    "    if(input(\"do you want to continue: \")=='yes'):\n",
    "        continue\n",
    "    else:\n",
    "        break\n",
    "        "
   ]
  },
  {
   "cell_type": "code",
   "execution_count": null,
   "id": "c98e9ffe-921b-4fea-b44b-0078f3775552",
   "metadata": {},
   "outputs": [],
   "source": []
  }
 ],
 "metadata": {
  "kernelspec": {
   "display_name": "Python 3 (ipykernel)",
   "language": "python",
   "name": "python3"
  },
  "language_info": {
   "codemirror_mode": {
    "name": "ipython",
    "version": 3
   },
   "file_extension": ".py",
   "mimetype": "text/x-python",
   "name": "python",
   "nbconvert_exporter": "python",
   "pygments_lexer": "ipython3",
   "version": "3.12.7"
  }
 },
 "nbformat": 4,
 "nbformat_minor": 5
}
