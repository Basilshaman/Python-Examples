{
 "cells": [
  {
   "cell_type": "code",
   "execution_count": 1,
   "id": "a7231c85-37c0-4df7-a019-b2d5c997a1d0",
   "metadata": {},
   "outputs": [],
   "source": [
    "import numpy as np\n"
   ]
  },
  {
   "cell_type": "code",
   "execution_count": 7,
   "id": "03ce1b84-bf30-4f7a-9c87-d6b9d9c70fc8",
   "metadata": {},
   "outputs": [
    {
     "name": "stdout",
     "output_type": "stream",
     "text": [
      "there are many types of birds\n",
      "most of the birds can fly but some cannot\n",
      "there are many types of birds\n",
      "sparrows can fly\n",
      "there are many types of birds\n",
      "ostrich cannot fly\n"
     ]
    }
   ],
   "source": [
    "class bird:\n",
    "    def intro(self):\n",
    "        print('there are many types of birds')\n",
    "    def flight(self):\n",
    "        print('most of the birds can fly but some cannot')\n",
    "\n",
    "class sparrow(bird):\n",
    "    def flight(self):\n",
    "        print('sparrows can fly')\n",
    "\n",
    "class ostrich(bird):\n",
    "    def flight(self):\n",
    "        print('ostrich cannot fly')\n",
    "birds=bird()\n",
    "bird2=ostrich()\n",
    "bird1=sparrow()\n",
    "birds.intro()\n",
    "birds.flight()\n",
    "bird1.intro()\n",
    "bird1.flight()\n",
    "bird2.intro()\n",
    "bird2.flight()\n",
    "    "
   ]
  },
  {
   "cell_type": "code",
   "execution_count": null,
   "id": "51b75d20-31b4-483e-a395-a966cea31285",
   "metadata": {},
   "outputs": [],
   "source": []
  }
 ],
 "metadata": {
  "kernelspec": {
   "display_name": "Python [conda env:anaconda3]",
   "language": "python",
   "name": "conda-env-anaconda3-py"
  },
  "language_info": {
   "codemirror_mode": {
    "name": "ipython",
    "version": 3
   },
   "file_extension": ".py",
   "mimetype": "text/x-python",
   "name": "python",
   "nbconvert_exporter": "python",
   "pygments_lexer": "ipython3",
   "version": "3.12.7"
  }
 },
 "nbformat": 4,
 "nbformat_minor": 5
}
