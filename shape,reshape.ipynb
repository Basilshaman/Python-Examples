{
 "cells": [
  {
   "cell_type": "code",
   "execution_count": 3,
   "id": "eb49b35f-f61f-43ca-93bf-f3779e161f09",
   "metadata": {},
   "outputs": [],
   "source": [
    "import numpy as np"
   ]
  },
  {
   "cell_type": "code",
   "execution_count": 12,
   "id": "9c47b238-408c-4da7-8d4e-766b3a3795bd",
   "metadata": {},
   "outputs": [
    {
     "data": {
      "text/plain": [
       "'basil'"
      ]
     },
     "execution_count": 12,
     "metadata": {},
     "output_type": "execute_result"
    }
   ],
   "source": [
    "a='basil'\n",
    "a"
   ]
  },
  {
   "cell_type": "markdown",
   "id": "a5e40852-718b-461f-ab7b-e2e391328ed5",
   "metadata": {},
   "source": [
    "# WORK SPACE"
   ]
  },
  {
   "cell_type": "markdown",
   "id": "508293f2-fb19-4956-b74f-60710542e150",
   "metadata": {},
   "source": [
    "## Pyramid"
   ]
  },
  {
   "cell_type": "markdown",
   "id": "63a054e6-45c3-4e87-b786-053378f6f792",
   "metadata": {},
   "source": [
    "create a star pyramid (for loop) "
   ]
  },
  {
   "cell_type": "code",
   "execution_count": 17,
   "id": "e33fbc4d-5c19-4f8d-892b-24c633f8198b",
   "metadata": {},
   "outputs": [
    {
     "name": "stdout",
     "output_type": "stream",
     "text": [
      "       \n",
      "      * \n",
      "     * * \n",
      "    * * * \n",
      "   * * * * \n",
      "  * * * * * \n",
      " * * * * * * \n"
     ]
    }
   ],
   "source": [
    "for  row in range(0,7):\n",
    "    for space in range(7-row):\n",
    "        print(' ',end='')\n",
    "    for star in range(0,row):\n",
    "        print('* ',end=\"\")\n",
    "    print(\"\")"
   ]
  },
  {
   "cell_type": "code",
   "execution_count": 22,
   "id": "88f29764-7c6e-4fee-9588-686efa49f136",
   "metadata": {},
   "outputs": [
    {
     "data": {
      "text/plain": [
       "([1, 2, 3], [4, 56, 6])"
      ]
     },
     "execution_count": 22,
     "metadata": {},
     "output_type": "execute_result"
    }
   ],
   "source": [
    "a=[1,2,3],[4,56,6]\n",
    "a"
   ]
  },
  {
   "cell_type": "code",
   "execution_count": 23,
   "id": "63ee61eb-9aaf-4ef6-9876-40261cd6b375",
   "metadata": {},
   "outputs": [
    {
     "data": {
      "text/plain": [
       "array([[ 1,  2,  3],\n",
       "       [ 4, 56,  6]])"
      ]
     },
     "execution_count": 23,
     "metadata": {},
     "output_type": "execute_result"
    }
   ],
   "source": [
    "metrix=np.array(a)\n",
    "metrix"
   ]
  },
  {
   "cell_type": "code",
   "execution_count": 24,
   "id": "d4944330-c597-4332-8449-9ac0c3d76dd8",
   "metadata": {},
   "outputs": [
    {
     "data": {
      "text/plain": [
       "array([[ 1,  2,  3],\n",
       "       [ 4, 56,  6]])"
      ]
     },
     "execution_count": 24,
     "metadata": {},
     "output_type": "execute_result"
    }
   ],
   "source": [
    "np.array(metrix)"
   ]
  },
  {
   "cell_type": "code",
   "execution_count": 25,
   "id": "8902a79b-5344-4b18-9476-11aa8da425ad",
   "metadata": {},
   "outputs": [
    {
     "data": {
      "text/plain": [
       "72"
      ]
     },
     "execution_count": 25,
     "metadata": {},
     "output_type": "execute_result"
    }
   ],
   "source": [
    "np.sum(a)"
   ]
  },
  {
   "cell_type": "code",
   "execution_count": 36,
   "id": "9f1199d2-1ae8-48c1-bb05-5958ecc6c500",
   "metadata": {},
   "outputs": [
    {
     "data": {
      "text/plain": [
       "array([0, 1, 2, 3, 4, 5, 6, 7, 8, 9])"
      ]
     },
     "execution_count": 36,
     "metadata": {},
     "output_type": "execute_result"
    }
   ],
   "source": [
    "a=np.arange(0,10)\n",
    "a"
   ]
  },
  {
   "cell_type": "code",
   "execution_count": 37,
   "id": "0359f3ea-9bbe-4027-acd0-65aec4f9975b",
   "metadata": {},
   "outputs": [
    {
     "data": {
      "text/plain": [
       "array([[0, 1, 2, 3, 4],\n",
       "       [5, 6, 7, 8, 9]])"
      ]
     },
     "execution_count": 37,
     "metadata": {},
     "output_type": "execute_result"
    }
   ],
   "source": [
    "a.reshape(2,5)"
   ]
  },
  {
   "cell_type": "code",
   "execution_count": null,
   "id": "fea2649b-ab7e-4f93-9eff-f3b6c1251fc8",
   "metadata": {},
   "outputs": [],
   "source": []
  }
 ],
 "metadata": {
  "kernelspec": {
   "display_name": "Python 3 (ipykernel)",
   "language": "python",
   "name": "python3"
  },
  "language_info": {
   "codemirror_mode": {
    "name": "ipython",
    "version": 3
   },
   "file_extension": ".py",
   "mimetype": "text/x-python",
   "name": "python",
   "nbconvert_exporter": "python",
   "pygments_lexer": "ipython3",
   "version": "3.12.3"
  }
 },
 "nbformat": 4,
 "nbformat_minor": 5
}
