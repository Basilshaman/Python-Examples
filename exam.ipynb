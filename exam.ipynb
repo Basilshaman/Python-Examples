{
 "cells": [
  {
   "cell_type": "markdown",
   "id": "65195fce-8617-426a-b320-4109f376c062",
   "metadata": {},
   "source": [
    "#exam()\n"
   ]
  },
  {
   "cell_type": "code",
   "execution_count": 4,
   "id": "5f4cd0c5-744e-453d-89a9-68fa211acd4e",
   "metadata": {},
   "outputs": [],
   "source": [
    "import re"
   ]
  },
  {
   "cell_type": "code",
   "execution_count": 22,
   "id": "f21139cf-4049-445e-9c9f-d1fedd172544",
   "metadata": {},
   "outputs": [
    {
     "name": "stdout",
     "output_type": "stream",
     "text": [
      "['9', '9', '9', '3', '5', '5', '4', '5', '5', '4', '1', '2', '3', '4', '5', '6']\n"
     ]
    }
   ],
   "source": [
    "digits=r'\\d'\n",
    "print(re.findall(digits,'myphone numbber is 9993554554 and my zip code is 123456'))"
   ]
  },
  {
   "cell_type": "code",
   "execution_count": 30,
   "id": "c37ee61c-be2a-4f4e-965b-e2f646254d1c",
   "metadata": {},
   "outputs": [
    {
     "name": "stdout",
     "output_type": "stream",
     "text": [
      "['regex', 'make', 'pattern', 'matching', 'easy']\n"
     ]
    }
   ],
   "source": [
    "word=r'[a-zA-Z]+'\n",
    "print(re.findall(word,'regex make 7888: pattern matching easy'))"
   ]
  },
  {
   "cell_type": "code",
   "execution_count": 56,
   "id": "dfa0a9cb-6d06-444c-aaea-e31dfdd430aa",
   "metadata": {},
   "outputs": [
    {
     "name": "stdout",
     "output_type": "stream",
     "text": [
      "['this', 'task', 'teaches', 'the']\n"
     ]
    }
   ],
   "source": [
    "digits=r'[t]\\w*+'\n",
    "print(re.findall(digits,'this task teaches the basics of regex'))"
   ]
  },
  {
   "cell_type": "code",
   "execution_count": null,
   "id": "9e884961-3857-43ad-8f4b-653f229e4b6d",
   "metadata": {},
   "outputs": [],
   "source": []
  }
 ],
 "metadata": {
  "kernelspec": {
   "display_name": "Python [conda env:anaconda3]",
   "language": "python",
   "name": "conda-env-anaconda3-py"
  },
  "language_info": {
   "codemirror_mode": {
    "name": "ipython",
    "version": 3
   },
   "file_extension": ".py",
   "mimetype": "text/x-python",
   "name": "python",
   "nbconvert_exporter": "python",
   "pygments_lexer": "ipython3",
   "version": "3.12.7"
  }
 },
 "nbformat": 4,
 "nbformat_minor": 5
}
