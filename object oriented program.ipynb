{
 "cells": [
  {
   "cell_type": "code",
   "execution_count": 7,
   "id": "ed1c511c-ef29-4e3a-a2d4-5045be338329",
   "metadata": {},
   "outputs": [],
   "source": [
    "import numpy as np"
   ]
  },
  {
   "cell_type": "code",
   "execution_count": 3,
   "id": "5dbbcacf-fca7-4ecf-b19e-a2fbfdc7ecc4",
   "metadata": {},
   "outputs": [],
   "source": [
    "def imp(a):\n",
    "    if a<5:\n",
    "        return False\n",
    "    else:\n",
    "        return True"
   ]
  },
  {
   "cell_type": "code",
   "execution_count": 9,
   "id": "66b08411-19f9-45e7-9a3a-203741f19cc2",
   "metadata": {},
   "outputs": [],
   "source": [
    "a=5"
   ]
  },
  {
   "cell_type": "code",
   "execution_count": 13,
   "id": "10fc719b-9012-4acf-adf0-8cfbb1f59455",
   "metadata": {},
   "outputs": [
    {
     "data": {
      "text/plain": [
       "True"
      ]
     },
     "execution_count": 13,
     "metadata": {},
     "output_type": "execute_result"
    }
   ],
   "source": [
    "imp(7)"
   ]
  },
  {
   "cell_type": "code",
   "execution_count": 15,
   "id": "9bb5bd67-3198-450d-8607-ef09b609d1e5",
   "metadata": {},
   "outputs": [
    {
     "data": {
      "text/plain": [
       "False"
      ]
     },
     "execution_count": 15,
     "metadata": {},
     "output_type": "execute_result"
    }
   ],
   "source": [
    "imp(0)"
   ]
  },
  {
   "cell_type": "markdown",
   "id": "31b446a8-69ea-4048-b59f-aaa5229c33ed",
   "metadata": {},
   "source": [
    "## object oriented programming concept"
   ]
  },
  {
   "cell_type": "markdown",
   "id": "bf0af3d9-97d6-4c27-a56b-700bb0090b29",
   "metadata": {},
   "source": [
    "students detailes"
   ]
  },
  {
   "cell_type": "code",
   "execution_count": 56,
   "id": "8d69da20-797b-47b2-b034-d1badb8123c2",
   "metadata": {},
   "outputs": [
    {
     "name": "stdout",
     "output_type": "stream",
     "text": [
      "name:anu\n",
      "id:1\n"
     ]
    }
   ],
   "source": [
    "class Student:\n",
    "    def __init__(self,name,ids):\n",
    "        self.name=name\n",
    "        self.id=ids\n",
    "    def print_name(self):\n",
    "        print(f\"name:{self.name}\")\n",
    "    def print_id(self):\n",
    "        print(f\"id:{self.id}\")\n",
    "\n",
    "st1=Student('anu',1)\n",
    "st1.print_name()\n",
    "st1.print_id()\n",
    "        \n",
    "    "
   ]
  },
  {
   "cell_type": "code",
   "execution_count": 52,
   "id": "0f35c441-1151-44ce-8891-c51dbbb8ad45",
   "metadata": {},
   "outputs": [
    {
     "name": "stdout",
     "output_type": "stream",
     "text": [
      "id:1\n"
     ]
    }
   ],
   "source": [
    "st1.print_id()"
   ]
  },
  {
   "cell_type": "code",
   "execution_count": 90,
   "id": "8a8318ee-3c15-4bd7-a3c7-95b6d4a7f517",
   "metadata": {},
   "outputs": [
    {
     "name": "stdout",
     "output_type": "stream",
     "text": [
      "place:kottakkal\n",
      "pin:676503\n"
     ]
    }
   ],
   "source": [
    "class Student:\n",
    "    def __init__(self,name,place,pin):\n",
    "        self.name=name\n",
    "        self.place=place\n",
    "        self.pin=pin\n",
    "    def print_name(self):\n",
    "        print(f\"name:{self.name}\")\n",
    "    def print_place(self):\n",
    "        print(f\"place:{self.place}\")\n",
    "    def print_pin(self):\n",
    "        print(f\"pin:{self.pin}\")\n",
    "\n",
    "st1=Student('anu','kottakkal',676503)\n",
    "st1.print_place()\n",
    "st1.print_pin()"
   ]
  },
  {
   "cell_type": "code",
   "execution_count": 110,
   "id": "3510148b-21de-4165-8aac-c9fde1d44651",
   "metadata": {},
   "outputs": [
    {
     "name": "stdout",
     "output_type": "stream",
     "text": [
      "name:anu\n"
     ]
    }
   ],
   "source": [
    "class Student:\n",
    "    def __init__(details,name,id):\n",
    "        details.name=name\n",
    "        details.id=id\n",
    "    def print_name(details):\n",
    "        print(f\"name:{details.name}\")\n",
    "    def print_id(details):\n",
    "        print(f\"id:{details.id}\")\n",
    "\n",
    "st1=Student('anu',1)\n",
    "st1.print_name()"
   ]
  },
  {
   "cell_type": "code",
   "execution_count": 88,
   "id": "fa64ed29-f49b-496e-aa80-7f018e01e20e",
   "metadata": {},
   "outputs": [
    {
     "name": "stdout",
     "output_type": "stream",
     "text": [
      "<__main__.Student object at 0x000001C3145600B0>\n"
     ]
    }
   ],
   "source": [
    "print(st1)"
   ]
  },
  {
   "cell_type": "code",
   "execution_count": 102,
   "id": "b14b70c0-37a2-4d34-b229-31d10d0a8620",
   "metadata": {},
   "outputs": [
    {
     "name": "stdout",
     "output_type": "stream",
     "text": [
      "1233456 your balance is 1000000\n"
     ]
    }
   ],
   "source": [
    "class account:\n",
    "    def __init__(self,accnt_no,accnt_blnce):\n",
    "        self.accnt_no=accnt_no\n",
    "        self.accnt_blnce=accnt_blnce\n",
    "    def withdraw(self,amount):\n",
    "        if self.accnt_blnce-amount>=0:\n",
    "            print('you can withdraw  the amount')\n",
    "            self.accnt_blnce=self.accnt_blnce-amount\n",
    "        else:\n",
    "            print('your transaction is failed,check yourbalance') \n",
    "    def display(self):\n",
    "        print(self.accnt_no,'your balance is',self.accnt_blnce)\n",
    "ac1=account(1233456,1000000)\n",
    "ac1.display()\n",
    "        \n",
    "    "
   ]
  },
  {
   "cell_type": "code",
   "execution_count": 104,
   "id": "94bae1d8-6794-4bcf-9ebc-e144e7ec5776",
   "metadata": {},
   "outputs": [
    {
     "name": "stdout",
     "output_type": "stream",
     "text": [
      "you can withdraw  the amount\n"
     ]
    }
   ],
   "source": [
    "ac1.withdraw(10000)"
   ]
  },
  {
   "cell_type": "code",
   "execution_count": 106,
   "id": "3955a0eb-006b-4885-bdc9-30d4e1891bc2",
   "metadata": {},
   "outputs": [
    {
     "name": "stdout",
     "output_type": "stream",
     "text": [
      "1233456 your balance is 990000\n"
     ]
    }
   ],
   "source": [
    "ac1.display()"
   ]
  },
  {
   "cell_type": "code",
   "execution_count": 108,
   "id": "571c849a-0abf-4d90-af10-078d5d5a4efa",
   "metadata": {},
   "outputs": [
    {
     "name": "stdout",
     "output_type": "stream",
     "text": [
      "your transaction is failed,check yourbalance\n"
     ]
    }
   ],
   "source": [
    "ac1.withdraw(1000000)"
   ]
  },
  {
   "cell_type": "code",
   "execution_count": 114,
   "id": "f02c3f91-3380-4ddb-a7d5-ff2d7e73559e",
   "metadata": {},
   "outputs": [
    {
     "name": "stdin",
     "output_type": "stream",
     "text": [
      "enter name: dog\n",
      "color: white\n"
     ]
    },
    {
     "name": "stdout",
     "output_type": "stream",
     "text": [
      "dog\n",
      "animal can walk\n"
     ]
    }
   ],
   "source": [
    "class animal:\n",
    "    def __init__(self):\n",
    "        self.name=input('enter name:')\n",
    "        self.color=input('color:')\n",
    "    def walk(self):\n",
    "        print('animal can walk')\n",
    "a1=animal()\n",
    "print(a1.name)\n",
    "a1.walk()\n",
    "\n",
    "\n",
    "        \n",
    "        "
   ]
  },
  {
   "cell_type": "code",
   "execution_count": null,
   "id": "51c9c0a4-0a3c-4ebb-8c5b-655b1a6374ea",
   "metadata": {},
   "outputs": [],
   "source": []
  }
 ],
 "metadata": {
  "kernelspec": {
   "display_name": "Python [conda env:anaconda3]",
   "language": "python",
   "name": "conda-env-anaconda3-py"
  },
  "language_info": {
   "codemirror_mode": {
    "name": "ipython",
    "version": 3
   },
   "file_extension": ".py",
   "mimetype": "text/x-python",
   "name": "python",
   "nbconvert_exporter": "python",
   "pygments_lexer": "ipython3",
   "version": "3.12.7"
  }
 },
 "nbformat": 4,
 "nbformat_minor": 5
}
