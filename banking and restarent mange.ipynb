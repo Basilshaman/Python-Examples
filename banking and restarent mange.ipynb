{
 "cells": [
  {
   "cell_type": "code",
   "execution_count": 1,
   "id": "716e2d23-d4d4-43a1-b965-a0a31d9e339e",
   "metadata": {},
   "outputs": [],
   "source": [
    "import numpy as np\n"
   ]
  },
  {
   "cell_type": "code",
   "execution_count": 51,
   "id": "7a9194de-fa90-40f3-b13e-50434d74f12d",
   "metadata": {},
   "outputs": [
    {
     "name": "stdout",
     "output_type": "stream",
     "text": [
      "menu:['poratta', 'chappathi', 'puttu']\n",
      "name:['joy']\n"
     ]
    },
    {
     "name": "stdin",
     "output_type": "stream",
     "text": [
      "item added to menu: cake\n"
     ]
    },
    {
     "name": "stdout",
     "output_type": "stream",
     "text": [
      "updated menu:['poratta', 'chappathi', 'puttu', 'cake']\n"
     ]
    },
    {
     "name": "stdin",
     "output_type": "stream",
     "text": [
      "table number: 3\n"
     ]
    },
    {
     "name": "stdout",
     "output_type": "stream",
     "text": [
      "Table 3booked for['joy']\n"
     ]
    },
    {
     "name": "stdin",
     "output_type": "stream",
     "text": [
      "ordered item: cake*3\n"
     ]
    },
    {
     "name": "stdout",
     "output_type": "stream",
     "text": [
      "['joy'] ordered:['cake*3']\n",
      "menu:['poratta', 'chappathi', 'puttu', 'cake']\n",
      "name:['denis']\n"
     ]
    },
    {
     "name": "stdin",
     "output_type": "stream",
     "text": [
      "item added to menu: mandhi\n"
     ]
    },
    {
     "name": "stdout",
     "output_type": "stream",
     "text": [
      "updated menu:['poratta', 'chappathi', 'puttu', 'cake', 'mandhi']\n"
     ]
    },
    {
     "name": "stdin",
     "output_type": "stream",
     "text": [
      "table number: 5\n"
     ]
    },
    {
     "name": "stdout",
     "output_type": "stream",
     "text": [
      "Table 5booked for['denis']\n"
     ]
    },
    {
     "name": "stdin",
     "output_type": "stream",
     "text": [
      "ordered item: puttu\n"
     ]
    },
    {
     "name": "stdout",
     "output_type": "stream",
     "text": [
      "['denis'] ordered:['puttu']\n"
     ]
    }
   ],
   "source": [
    "class Hotel:\n",
    "    def __init__(self,menu,custemer_name,booked_table,custemer_order):\n",
    "        self.menu=menu\n",
    "        self.cst_name=custemer_name\n",
    "        self.booked_table=booked_table\n",
    "        self.costemer_order=custemer_order\n",
    "    def Menu(self):\n",
    "        print(f\"menu:{self.menu}\")\n",
    "    def name(self):\n",
    "        print(f\"name:{self.cst_name}\") \n",
    "    def add_item(self):\n",
    "        add_list=input('item added to menu:')\n",
    "        self.menu.append(add_list)\n",
    "        print(f'updated menu:{self.menu}')\n",
    "    def list_of_item(self):\n",
    "        add_item=input('ordered item:')\n",
    "        self.costemer_order.append(add_item)\n",
    "        print(f'{self.cst_name} ordered:{self.costemer_order}')\n",
    "    def table_booked(self):\n",
    "        booking=int(input('table number:'))\n",
    "        self.booked_table.append(booking)\n",
    "        print(f'Table {bo}booked for{self.cst_name}')\n",
    "item=['poratta','chappathi','puttu']\n",
    "cst1=Hotel(menu=item,custemer_name=['joy'],booked_table=[],custemer_order=[])\n",
    "cst2=Hotel(menu=item,custemer_name=['denis'],booked_table=[],custemer_order=[])\n",
    "cst3=Hotel(menu=item,custemer_name=['benny'],booked_table=[],custemer_order=[])\n",
    "cst1.Menu()\n",
    "cst1.name()\n",
    "cst1.add_item()\n",
    "cst1.table_booked()\n",
    "cst1.list_of_item()\n",
    "cst2.Menu()\n",
    "cst2.name()\n",
    "cst2.add_item()\n",
    "cst2.table_booked()\n",
    "cst2.list_of_item()\n",
    "\n",
    "\n",
    "\n"
   ]
  },
  {
   "cell_type": "markdown",
   "id": "79590e47-ad36-4be3-abb9-03c31e860a6f",
   "metadata": {},
   "source": [
    "## hotel manging"
   ]
  },
  {
   "cell_type": "code",
   "execution_count": 73,
   "id": "03834934-4887-4f99-be11-957cbf7b6444",
   "metadata": {},
   "outputs": [
    {
     "name": "stdin",
     "output_type": "stream",
     "text": [
      "menu:  'puttu','poratta','chappathi','mandhi','cakes','biscuts','juice'\n"
     ]
    },
    {
     "name": "stdout",
     "output_type": "stream",
     "text": [
      "available item:[\" 'puttu','poratta','chappathi','mandhi','cakes','biscuts','juice'\"]\n"
     ]
    }
   ],
   "source": [
    "class Hotel:\n",
    "    def __init__(self,menu,custemer_name,booked_table,custemer_order):\n",
    "        self.menu=menu\n",
    "        self.cst_name=custemer_name\n",
    "        self.booked_table=booked_table\n",
    "        self.costemer_order=custemer_order\n",
    "    def Menu(self):\n",
    "        add_menu=input('menu:')\n",
    "        self.menu.append(add_menu)\n",
    "        print(f'available item:{self.menu}') \n",
    "    def table_booking(self):\n",
    "        booking=int(input('table number:'))\n",
    "        self.booked_table.append(booking)\n",
    "    def odering(self):\n",
    "        add_item=input('ordered item:')\n",
    "        self.costemer_order.append(add_item)\n",
    "       \n",
    "   \n",
    "    def conformed(self):\n",
    "        print(f\"name:{self.cst_name}\")\n",
    "        print(f'Table {self.booked_table}booked for{self.cst_name}')\n",
    "        print(f'{self.cst_name} ordered:{self.costemer_order}')\n",
    "        \n",
    "cst1=Hotel(menu=[],custemer_name=['joy'],booked_table=[],custemer_order=[])\n",
    "cst2=Hotel(menu=item,custemer_name=['denis'],booked_table=[],custemer_order=[])\n",
    "cst3=Hotel(menu=item,custemer_name=['benny'],booked_table=[],custemer_order=[])\n",
    "cst1.Menu()\n"
   ]
  },
  {
   "cell_type": "code",
   "execution_count": 75,
   "id": "cd8a098a-a8a1-435c-b123-be16a9273dd5",
   "metadata": {},
   "outputs": [
    {
     "name": "stdin",
     "output_type": "stream",
     "text": [
      "table number: 2\n",
      "ordered item: puttu\n"
     ]
    },
    {
     "name": "stdout",
     "output_type": "stream",
     "text": [
      "name:['joy']\n",
      "Table [2]booked for['joy']\n",
      "['joy'] ordered:['puttu']\n"
     ]
    }
   ],
   "source": [
    "cst1.table_booking()\n",
    "cst1.odering()\n",
    "cst1.conformed()"
   ]
  },
  {
   "cell_type": "code",
   "execution_count": 77,
   "id": "1284e497-f9e3-49fe-a15a-682c68bdebcd",
   "metadata": {},
   "outputs": [
    {
     "name": "stdin",
     "output_type": "stream",
     "text": [
      "table number: 4\n",
      "ordered item: poratta\n"
     ]
    },
    {
     "name": "stdout",
     "output_type": "stream",
     "text": [
      "name:['denis']\n",
      "Table [4]booked for['denis']\n",
      "['denis'] ordered:['poratta']\n"
     ]
    }
   ],
   "source": [
    "cst2.table_booking()\n",
    "cst2.odering()\n",
    "cst2.conformed()"
   ]
  },
  {
   "cell_type": "markdown",
   "id": "9ef8c6ab-bb31-4925-b7c8-2217d277d3c3",
   "metadata": {},
   "source": [
    "## banking"
   ]
  },
  {
   "cell_type": "code",
   "execution_count": 130,
   "id": "81a98532-8976-4a3a-bb7f-9da6283a2f99",
   "metadata": {},
   "outputs": [],
   "source": [
    "class bank:\n",
    "    def __init__(self,acunt_no,blnce,date_of_opening,custemer_name):\n",
    "        self.act_no=acunt_no\n",
    "        self.blnce=blnce\n",
    "        self.open_date=date_of_opening\n",
    "        self.cst_name=custemer_name\n",
    "       \n",
    "    def deposit(self):\n",
    "        \n",
    "        deposit=int(input('deposit:'))\n",
    "        \n",
    "        print(f'your balance is:{self.blnce}')\n",
    "        self.blnce=self.blnce+deposit\n",
    "            \n",
    "    def withdraw(self,amount):\n",
    "        wtdrw=int(inut('withdraw:'))\n",
    "        if self.blnce-amount>=0:\n",
    "            print('you can withdraw  the amount')\n",
    "            self.blnce=self.blnce-amount\n",
    "        else:\n",
    "            print('your transaction is failed,check yourbalance') \n",
    "    def details(self):\n",
    "        print(f\"act_no:{self.act_no}\")\n",
    "\n",
    "        print(f\"cst_name:{self.cst_name}\")\n",
    "   \n",
    "        print(f\"accunt_open_in:{self.open_date}\")\n",
    "\n",
    "        print(f\"account_balance:{self.blnce}\")\n",
    "cst1=bank(acunt_no=[235255],blnce=[500045600],date_of_opening=['20:7:1999'],custemer_name=['benny'])\n",
    "cst2=bank(acunt_no=[235558],blnce=[5500000],date_of_opening=['24:5:1999'],custemer_name=['joy'])\n",
    "cst3=bank(acunt_no=[235200],blnce=[54566700000],date_of_opening=['20:5:1979'],custemer_name=['meera'])"
   ]
  },
  {
   "cell_type": "code",
   "execution_count": 132,
   "id": "87d2cdf6-8f21-4532-bee3-fda22f506616",
   "metadata": {},
   "outputs": [
    {
     "name": "stdout",
     "output_type": "stream",
     "text": [
      "act_no:[235255]\n",
      "cst_name:['benny']\n",
      "accunt_open_in:['20:7:1999']\n",
      "account_balance:[500045600]\n"
     ]
    }
   ],
   "source": [
    "cst1.details()"
   ]
  },
  {
   "cell_type": "code",
   "execution_count": 134,
   "id": "1ed62e3f-983b-4eb3-97a0-d3e6d186b0ac",
   "metadata": {},
   "outputs": [
    {
     "name": "stdin",
     "output_type": "stream",
     "text": [
      "deposit: 400000\n"
     ]
    },
    {
     "name": "stdout",
     "output_type": "stream",
     "text": [
      "your balance is:[500045600]\n"
     ]
    },
    {
     "ename": "TypeError",
     "evalue": "can only concatenate list (not \"int\") to list",
     "output_type": "error",
     "traceback": [
      "\u001b[1;31m---------------------------------------------------------------------------\u001b[0m",
      "\u001b[1;31mTypeError\u001b[0m                                 Traceback (most recent call last)",
      "Cell \u001b[1;32mIn[134], line 1\u001b[0m\n\u001b[1;32m----> 1\u001b[0m cst1\u001b[38;5;241m.\u001b[39mdeposit()\n",
      "Cell \u001b[1;32mIn[130], line 13\u001b[0m, in \u001b[0;36mbank.deposit\u001b[1;34m(self)\u001b[0m\n\u001b[0;32m     10\u001b[0m deposit\u001b[38;5;241m=\u001b[39m\u001b[38;5;28mint\u001b[39m(\u001b[38;5;28minput\u001b[39m(\u001b[38;5;124m'\u001b[39m\u001b[38;5;124mdeposit:\u001b[39m\u001b[38;5;124m'\u001b[39m))\n\u001b[0;32m     12\u001b[0m \u001b[38;5;28mprint\u001b[39m(\u001b[38;5;124mf\u001b[39m\u001b[38;5;124m'\u001b[39m\u001b[38;5;124myour balance is:\u001b[39m\u001b[38;5;132;01m{\u001b[39;00m\u001b[38;5;28mself\u001b[39m\u001b[38;5;241m.\u001b[39mblnce\u001b[38;5;132;01m}\u001b[39;00m\u001b[38;5;124m'\u001b[39m)\n\u001b[1;32m---> 13\u001b[0m \u001b[38;5;28mself\u001b[39m\u001b[38;5;241m.\u001b[39mblnce\u001b[38;5;241m=\u001b[39m\u001b[38;5;28mself\u001b[39m\u001b[38;5;241m.\u001b[39mblnce\u001b[38;5;241m+\u001b[39mdeposit\n",
      "\u001b[1;31mTypeError\u001b[0m: can only concatenate list (not \"int\") to list"
     ]
    }
   ],
   "source": [
    "cst1.deposit()"
   ]
  },
  {
   "cell_type": "code",
   "execution_count": null,
   "id": "431e6f4e-cf33-44c1-bab8-5d7c46bc6f81",
   "metadata": {},
   "outputs": [],
   "source": []
  }
 ],
 "metadata": {
  "kernelspec": {
   "display_name": "Python [conda env:anaconda3]",
   "language": "python",
   "name": "conda-env-anaconda3-py"
  },
  "language_info": {
   "codemirror_mode": {
    "name": "ipython",
    "version": 3
   },
   "file_extension": ".py",
   "mimetype": "text/x-python",
   "name": "python",
   "nbconvert_exporter": "python",
   "pygments_lexer": "ipython3",
   "version": "3.12.7"
  }
 },
 "nbformat": 4,
 "nbformat_minor": 5
}
