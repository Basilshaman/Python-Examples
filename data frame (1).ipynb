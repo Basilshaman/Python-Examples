{
 "cells": [
  {
   "cell_type": "code",
   "execution_count": 3,
   "id": "c02ad4c1-71d4-43e7-873f-635450f502da",
   "metadata": {},
   "outputs": [],
   "source": [
    "import numpy as np\n",
    "import pandas as pd"
   ]
  },
  {
   "cell_type": "code",
   "execution_count": 7,
   "id": "7ea7321b-e18e-4784-aeba-7c7d7b6b4f14",
   "metadata": {},
   "outputs": [
    {
     "data": {
      "text/plain": [
       "array([[-1.56035211, -0.0309776 , -0.62092842, -1.46458049,  1.41194612],\n",
       "       [-0.47673214, -0.78046921,  1.07026774, -1.2822926 , -1.3274789 ],\n",
       "       [ 0.12633764,  0.86219372,  0.69673696, -0.33456518, -0.99752606],\n",
       "       [ 1.59890829,  3.31407535,  0.98777046,  0.12386626,  0.74278539],\n",
       "       [-0.39395585,  0.14811582, -0.41223445, -0.16071506,  0.13953147]])"
      ]
     },
     "execution_count": 7,
     "metadata": {},
     "output_type": "execute_result"
    }
   ],
   "source": [
    "from numpy.random import randn\n",
    "np.random.seed(50)\n",
    "randn(5,5)\n"
   ]
  },
  {
   "cell_type": "code",
   "execution_count": 15,
   "id": "a3d8f866-b9c5-4717-b0bf-04c8304e5e26",
   "metadata": {},
   "outputs": [],
   "source": [
    "value=np.random.seed(20)"
   ]
  },
  {
   "cell_type": "code",
   "execution_count": 21,
   "id": "9e624313-8a11-44d6-962b-2820e42f3564",
   "metadata": {},
   "outputs": [
    {
     "data": {
      "text/plain": [
       "array([[ 0.52706972, -1.55110074,  0.32961334, -1.13652654],\n",
       "       [-0.3384906 ,  0.32097078, -0.60230802,  1.54472836],\n",
       "       [ 0.64703408,  0.59321721,  0.4380245 ,  1.35778902],\n",
       "       [ 1.20451128,  1.35179619,  0.49343724, -2.70436525]])"
      ]
     },
     "execution_count": 21,
     "metadata": {},
     "output_type": "execute_result"
    }
   ],
   "source": [
    "randn(4,4)"
   ]
  },
  {
   "cell_type": "markdown",
   "id": "0f78907f-daab-455e-a40b-02a62106c68e",
   "metadata": {},
   "source": [
    "DATA FRAME CREATION"
   ]
  },
  {
   "cell_type": "code",
   "execution_count": 9,
   "id": "72d02ab9-fcb8-42e0-a036-cf0c0bd89826",
   "metadata": {},
   "outputs": [
    {
     "data": {
      "text/html": [
       "<div>\n",
       "<style scoped>\n",
       "    .dataframe tbody tr th:only-of-type {\n",
       "        vertical-align: middle;\n",
       "    }\n",
       "\n",
       "    .dataframe tbody tr th {\n",
       "        vertical-align: top;\n",
       "    }\n",
       "\n",
       "    .dataframe thead th {\n",
       "        text-align: right;\n",
       "    }\n",
       "</style>\n",
       "<table border=\"1\" class=\"dataframe\">\n",
       "  <thead>\n",
       "    <tr style=\"text-align: right;\">\n",
       "      <th></th>\n",
       "      <th>@</th>\n",
       "      <th>#</th>\n",
       "      <th>$</th>\n",
       "      <th>%</th>\n",
       "      <th>^</th>\n",
       "    </tr>\n",
       "  </thead>\n",
       "  <tbody>\n",
       "    <tr>\n",
       "      <th>A</th>\n",
       "      <td>0.285469</td>\n",
       "      <td>-0.281262</td>\n",
       "      <td>1.710907</td>\n",
       "      <td>-0.149767</td>\n",
       "      <td>0.690307</td>\n",
       "    </tr>\n",
       "    <tr>\n",
       "      <th>B</th>\n",
       "      <td>1.095210</td>\n",
       "      <td>1.338409</td>\n",
       "      <td>-1.368982</td>\n",
       "      <td>0.486428</td>\n",
       "      <td>0.753522</td>\n",
       "    </tr>\n",
       "    <tr>\n",
       "      <th>C</th>\n",
       "      <td>0.363465</td>\n",
       "      <td>-0.314710</td>\n",
       "      <td>1.373281</td>\n",
       "      <td>-0.624417</td>\n",
       "      <td>0.375754</td>\n",
       "    </tr>\n",
       "    <tr>\n",
       "      <th>D</th>\n",
       "      <td>-0.200416</td>\n",
       "      <td>0.743038</td>\n",
       "      <td>0.857362</td>\n",
       "      <td>-1.506189</td>\n",
       "      <td>-1.666352</td>\n",
       "    </tr>\n",
       "    <tr>\n",
       "      <th>E</th>\n",
       "      <td>-0.218995</td>\n",
       "      <td>-0.358858</td>\n",
       "      <td>0.378528</td>\n",
       "      <td>0.684215</td>\n",
       "      <td>-1.167856</td>\n",
       "    </tr>\n",
       "  </tbody>\n",
       "</table>\n",
       "</div>"
      ],
      "text/plain": [
       "          @         #         $         %         ^\n",
       "A  0.285469 -0.281262  1.710907 -0.149767  0.690307\n",
       "B  1.095210  1.338409 -1.368982  0.486428  0.753522\n",
       "C  0.363465 -0.314710  1.373281 -0.624417  0.375754\n",
       "D -0.200416  0.743038  0.857362 -1.506189 -1.666352\n",
       "E -0.218995 -0.358858  0.378528  0.684215 -1.167856"
      ]
     },
     "execution_count": 9,
     "metadata": {},
     "output_type": "execute_result"
    }
   ],
   "source": [
    "df=pd.DataFrame(randn(5,5),index='A B C D E'.split(),columns='@ # $ % ^'.split())\n",
    "df"
   ]
  },
  {
   "cell_type": "code",
   "execution_count": 224,
   "id": "0051d499-4b83-4e48-aea7-f1650636c998",
   "metadata": {},
   "outputs": [
    {
     "data": {
      "text/plain": [
       "A    0.211593\n",
       "B    0.533533\n",
       "C   -0.875581\n",
       "D    0.363703\n",
       "E   -0.897837\n",
       "Name: @, dtype: float64"
      ]
     },
     "execution_count": 224,
     "metadata": {},
     "output_type": "execute_result"
    }
   ],
   "source": [
    "df['@']"
   ]
  },
  {
   "cell_type": "code",
   "execution_count": 226,
   "id": "185ca753-b89c-40f5-9f7a-7c909163f8db",
   "metadata": {},
   "outputs": [
    {
     "data": {
      "text/html": [
       "<div>\n",
       "<style scoped>\n",
       "    .dataframe tbody tr th:only-of-type {\n",
       "        vertical-align: middle;\n",
       "    }\n",
       "\n",
       "    .dataframe tbody tr th {\n",
       "        vertical-align: top;\n",
       "    }\n",
       "\n",
       "    .dataframe thead th {\n",
       "        text-align: right;\n",
       "    }\n",
       "</style>\n",
       "<table border=\"1\" class=\"dataframe\">\n",
       "  <thead>\n",
       "    <tr style=\"text-align: right;\">\n",
       "      <th></th>\n",
       "      <th>@</th>\n",
       "      <th>#</th>\n",
       "      <th>$</th>\n",
       "      <th>%</th>\n",
       "      <th>^</th>\n",
       "    </tr>\n",
       "  </thead>\n",
       "  <tbody>\n",
       "    <tr>\n",
       "      <th>A</th>\n",
       "      <td>0.211593</td>\n",
       "      <td>-0.649301</td>\n",
       "      <td>1.199065</td>\n",
       "      <td>0.437168</td>\n",
       "      <td>-0.688731</td>\n",
       "    </tr>\n",
       "    <tr>\n",
       "      <th>B</th>\n",
       "      <td>0.533533</td>\n",
       "      <td>0.292956</td>\n",
       "      <td>-0.072711</td>\n",
       "      <td>-0.013516</td>\n",
       "      <td>-1.457686</td>\n",
       "    </tr>\n",
       "    <tr>\n",
       "      <th>C</th>\n",
       "      <td>-0.875581</td>\n",
       "      <td>0.367696</td>\n",
       "      <td>-0.494104</td>\n",
       "      <td>-0.108670</td>\n",
       "      <td>1.920631</td>\n",
       "    </tr>\n",
       "    <tr>\n",
       "      <th>D</th>\n",
       "      <td>0.363703</td>\n",
       "      <td>-1.015418</td>\n",
       "      <td>0.201318</td>\n",
       "      <td>1.257544</td>\n",
       "      <td>-0.671363</td>\n",
       "    </tr>\n",
       "    <tr>\n",
       "      <th>E</th>\n",
       "      <td>-0.897837</td>\n",
       "      <td>0.337236</td>\n",
       "      <td>0.237636</td>\n",
       "      <td>-1.045383</td>\n",
       "      <td>-0.952159</td>\n",
       "    </tr>\n",
       "  </tbody>\n",
       "</table>\n",
       "</div>"
      ],
      "text/plain": [
       "          @         #         $         %         ^\n",
       "A  0.211593 -0.649301  1.199065  0.437168 -0.688731\n",
       "B  0.533533  0.292956 -0.072711 -0.013516 -1.457686\n",
       "C -0.875581  0.367696 -0.494104 -0.108670  1.920631\n",
       "D  0.363703 -1.015418  0.201318  1.257544 -0.671363\n",
       "E -0.897837  0.337236  0.237636 -1.045383 -0.952159"
      ]
     },
     "execution_count": 226,
     "metadata": {},
     "output_type": "execute_result"
    }
   ],
   "source": [
    "df['@':]"
   ]
  },
  {
   "cell_type": "code",
   "execution_count": 228,
   "id": "06d83eff-5d7c-485d-a6bc-36a196ba7610",
   "metadata": {},
   "outputs": [
    {
     "data": {
      "text/plain": [
       "@    0.211593\n",
       "#   -0.649301\n",
       "$    1.199065\n",
       "%    0.437168\n",
       "^   -0.688731\n",
       "Name: A, dtype: float64"
      ]
     },
     "execution_count": 228,
     "metadata": {},
     "output_type": "execute_result"
    }
   ],
   "source": [
    "df.loc['A']"
   ]
  },
  {
   "cell_type": "code",
   "execution_count": 230,
   "id": "432d6752-ddb8-4539-8994-9b9323d45bfa",
   "metadata": {},
   "outputs": [
    {
     "data": {
      "text/plain": [
       "0.21159254186563414"
      ]
     },
     "execution_count": 230,
     "metadata": {},
     "output_type": "execute_result"
    }
   ],
   "source": [
    "df.loc['A','@']"
   ]
  },
  {
   "cell_type": "code",
   "execution_count": 232,
   "id": "ffc224ae-5b37-4361-9027-a5a74a1d1acd",
   "metadata": {},
   "outputs": [
    {
     "data": {
      "text/plain": [
       "@   -0.875581\n",
       "#    0.367696\n",
       "$   -0.494104\n",
       "%   -0.108670\n",
       "^    1.920631\n",
       "Name: C, dtype: float64"
      ]
     },
     "execution_count": 232,
     "metadata": {},
     "output_type": "execute_result"
    }
   ],
   "source": [
    "df.iloc[2]"
   ]
  },
  {
   "cell_type": "code",
   "execution_count": 234,
   "id": "c8398329-c011-409f-9cbc-422a3bfacaf7",
   "metadata": {},
   "outputs": [
    {
     "data": {
      "text/html": [
       "<div>\n",
       "<style scoped>\n",
       "    .dataframe tbody tr th:only-of-type {\n",
       "        vertical-align: middle;\n",
       "    }\n",
       "\n",
       "    .dataframe tbody tr th {\n",
       "        vertical-align: top;\n",
       "    }\n",
       "\n",
       "    .dataframe thead th {\n",
       "        text-align: right;\n",
       "    }\n",
       "</style>\n",
       "<table border=\"1\" class=\"dataframe\">\n",
       "  <thead>\n",
       "    <tr style=\"text-align: right;\">\n",
       "      <th></th>\n",
       "      <th>#</th>\n",
       "      <th>$</th>\n",
       "      <th>%</th>\n",
       "      <th>^</th>\n",
       "    </tr>\n",
       "  </thead>\n",
       "  <tbody>\n",
       "    <tr>\n",
       "      <th>A</th>\n",
       "      <td>-0.649301</td>\n",
       "      <td>1.199065</td>\n",
       "      <td>0.437168</td>\n",
       "      <td>-0.688731</td>\n",
       "    </tr>\n",
       "    <tr>\n",
       "      <th>B</th>\n",
       "      <td>0.292956</td>\n",
       "      <td>-0.072711</td>\n",
       "      <td>-0.013516</td>\n",
       "      <td>-1.457686</td>\n",
       "    </tr>\n",
       "    <tr>\n",
       "      <th>C</th>\n",
       "      <td>0.367696</td>\n",
       "      <td>-0.494104</td>\n",
       "      <td>-0.108670</td>\n",
       "      <td>1.920631</td>\n",
       "    </tr>\n",
       "    <tr>\n",
       "      <th>D</th>\n",
       "      <td>-1.015418</td>\n",
       "      <td>0.201318</td>\n",
       "      <td>1.257544</td>\n",
       "      <td>-0.671363</td>\n",
       "    </tr>\n",
       "    <tr>\n",
       "      <th>E</th>\n",
       "      <td>0.337236</td>\n",
       "      <td>0.237636</td>\n",
       "      <td>-1.045383</td>\n",
       "      <td>-0.952159</td>\n",
       "    </tr>\n",
       "  </tbody>\n",
       "</table>\n",
       "</div>"
      ],
      "text/plain": [
       "          #         $         %         ^\n",
       "A -0.649301  1.199065  0.437168 -0.688731\n",
       "B  0.292956 -0.072711 -0.013516 -1.457686\n",
       "C  0.367696 -0.494104 -0.108670  1.920631\n",
       "D -1.015418  0.201318  1.257544 -0.671363\n",
       "E  0.337236  0.237636 -1.045383 -0.952159"
      ]
     },
     "execution_count": 234,
     "metadata": {},
     "output_type": "execute_result"
    }
   ],
   "source": [
    "df.drop('@',axis=1)\n",
    "#this function remove'#'cloum"
   ]
  },
  {
   "cell_type": "code",
   "execution_count": 250,
   "id": "4b2fa762-12a3-4969-81a2-c0c6e770aee7",
   "metadata": {},
   "outputs": [
    {
     "data": {
      "text/html": [
       "<div>\n",
       "<style scoped>\n",
       "    .dataframe tbody tr th:only-of-type {\n",
       "        vertical-align: middle;\n",
       "    }\n",
       "\n",
       "    .dataframe tbody tr th {\n",
       "        vertical-align: top;\n",
       "    }\n",
       "\n",
       "    .dataframe thead th {\n",
       "        text-align: right;\n",
       "    }\n",
       "</style>\n",
       "<table border=\"1\" class=\"dataframe\">\n",
       "  <thead>\n",
       "    <tr style=\"text-align: right;\">\n",
       "      <th></th>\n",
       "      <th>#</th>\n",
       "      <th>$</th>\n",
       "      <th>%</th>\n",
       "      <th>^</th>\n",
       "      <th>new</th>\n",
       "    </tr>\n",
       "  </thead>\n",
       "  <tbody>\n",
       "    <tr>\n",
       "      <th>A</th>\n",
       "      <td>-0.649301</td>\n",
       "      <td>1.199065</td>\n",
       "      <td>0.437168</td>\n",
       "      <td>-0.688731</td>\n",
       "      <td>0.549764</td>\n",
       "    </tr>\n",
       "    <tr>\n",
       "      <th>B</th>\n",
       "      <td>0.292956</td>\n",
       "      <td>-0.072711</td>\n",
       "      <td>-0.013516</td>\n",
       "      <td>-1.457686</td>\n",
       "      <td>0.220245</td>\n",
       "    </tr>\n",
       "    <tr>\n",
       "      <th>C</th>\n",
       "      <td>0.367696</td>\n",
       "      <td>-0.494104</td>\n",
       "      <td>-0.108670</td>\n",
       "      <td>1.920631</td>\n",
       "      <td>-0.126408</td>\n",
       "    </tr>\n",
       "    <tr>\n",
       "      <th>D</th>\n",
       "      <td>-1.015418</td>\n",
       "      <td>0.201318</td>\n",
       "      <td>1.257544</td>\n",
       "      <td>-0.671363</td>\n",
       "      <td>-0.814100</td>\n",
       "    </tr>\n",
       "  </tbody>\n",
       "</table>\n",
       "</div>"
      ],
      "text/plain": [
       "          #         $         %         ^       new\n",
       "A -0.649301  1.199065  0.437168 -0.688731  0.549764\n",
       "B  0.292956 -0.072711 -0.013516 -1.457686  0.220245\n",
       "C  0.367696 -0.494104 -0.108670  1.920631 -0.126408\n",
       "D -1.015418  0.201318  1.257544 -0.671363 -0.814100"
      ]
     },
     "execution_count": 250,
     "metadata": {},
     "output_type": "execute_result"
    }
   ],
   "source": [
    "df\n",
    "#but not remove"
   ]
  },
  {
   "cell_type": "code",
   "execution_count": 238,
   "id": "86bb0979-c3d1-4948-b4b0-b8b38e57bec4",
   "metadata": {},
   "outputs": [
    {
     "data": {
      "text/html": [
       "<div>\n",
       "<style scoped>\n",
       "    .dataframe tbody tr th:only-of-type {\n",
       "        vertical-align: middle;\n",
       "    }\n",
       "\n",
       "    .dataframe tbody tr th {\n",
       "        vertical-align: top;\n",
       "    }\n",
       "\n",
       "    .dataframe thead th {\n",
       "        text-align: right;\n",
       "    }\n",
       "</style>\n",
       "<table border=\"1\" class=\"dataframe\">\n",
       "  <thead>\n",
       "    <tr style=\"text-align: right;\">\n",
       "      <th></th>\n",
       "      <th>#</th>\n",
       "      <th>$</th>\n",
       "      <th>%</th>\n",
       "      <th>^</th>\n",
       "    </tr>\n",
       "  </thead>\n",
       "  <tbody>\n",
       "    <tr>\n",
       "      <th>A</th>\n",
       "      <td>-0.649301</td>\n",
       "      <td>1.199065</td>\n",
       "      <td>0.437168</td>\n",
       "      <td>-0.688731</td>\n",
       "    </tr>\n",
       "    <tr>\n",
       "      <th>B</th>\n",
       "      <td>0.292956</td>\n",
       "      <td>-0.072711</td>\n",
       "      <td>-0.013516</td>\n",
       "      <td>-1.457686</td>\n",
       "    </tr>\n",
       "    <tr>\n",
       "      <th>C</th>\n",
       "      <td>0.367696</td>\n",
       "      <td>-0.494104</td>\n",
       "      <td>-0.108670</td>\n",
       "      <td>1.920631</td>\n",
       "    </tr>\n",
       "    <tr>\n",
       "      <th>D</th>\n",
       "      <td>-1.015418</td>\n",
       "      <td>0.201318</td>\n",
       "      <td>1.257544</td>\n",
       "      <td>-0.671363</td>\n",
       "    </tr>\n",
       "    <tr>\n",
       "      <th>E</th>\n",
       "      <td>0.337236</td>\n",
       "      <td>0.237636</td>\n",
       "      <td>-1.045383</td>\n",
       "      <td>-0.952159</td>\n",
       "    </tr>\n",
       "  </tbody>\n",
       "</table>\n",
       "</div>"
      ],
      "text/plain": [
       "          #         $         %         ^\n",
       "A -0.649301  1.199065  0.437168 -0.688731\n",
       "B  0.292956 -0.072711 -0.013516 -1.457686\n",
       "C  0.367696 -0.494104 -0.108670  1.920631\n",
       "D -1.015418  0.201318  1.257544 -0.671363\n",
       "E  0.337236  0.237636 -1.045383 -0.952159"
      ]
     },
     "execution_count": 238,
     "metadata": {},
     "output_type": "execute_result"
    }
   ],
   "source": [
    "df.drop('@',axis=1,inplace=True)\n",
    "df"
   ]
  },
  {
   "cell_type": "code",
   "execution_count": 240,
   "id": "69db1f8b-a771-4176-98bd-7c7e7560c2a5",
   "metadata": {},
   "outputs": [
    {
     "data": {
      "text/html": [
       "<div>\n",
       "<style scoped>\n",
       "    .dataframe tbody tr th:only-of-type {\n",
       "        vertical-align: middle;\n",
       "    }\n",
       "\n",
       "    .dataframe tbody tr th {\n",
       "        vertical-align: top;\n",
       "    }\n",
       "\n",
       "    .dataframe thead th {\n",
       "        text-align: right;\n",
       "    }\n",
       "</style>\n",
       "<table border=\"1\" class=\"dataframe\">\n",
       "  <thead>\n",
       "    <tr style=\"text-align: right;\">\n",
       "      <th></th>\n",
       "      <th>#</th>\n",
       "      <th>$</th>\n",
       "      <th>%</th>\n",
       "      <th>^</th>\n",
       "    </tr>\n",
       "  </thead>\n",
       "  <tbody>\n",
       "    <tr>\n",
       "      <th>A</th>\n",
       "      <td>-0.649301</td>\n",
       "      <td>1.199065</td>\n",
       "      <td>0.437168</td>\n",
       "      <td>-0.688731</td>\n",
       "    </tr>\n",
       "    <tr>\n",
       "      <th>B</th>\n",
       "      <td>0.292956</td>\n",
       "      <td>-0.072711</td>\n",
       "      <td>-0.013516</td>\n",
       "      <td>-1.457686</td>\n",
       "    </tr>\n",
       "    <tr>\n",
       "      <th>C</th>\n",
       "      <td>0.367696</td>\n",
       "      <td>-0.494104</td>\n",
       "      <td>-0.108670</td>\n",
       "      <td>1.920631</td>\n",
       "    </tr>\n",
       "    <tr>\n",
       "      <th>D</th>\n",
       "      <td>-1.015418</td>\n",
       "      <td>0.201318</td>\n",
       "      <td>1.257544</td>\n",
       "      <td>-0.671363</td>\n",
       "    </tr>\n",
       "  </tbody>\n",
       "</table>\n",
       "</div>"
      ],
      "text/plain": [
       "          #         $         %         ^\n",
       "A -0.649301  1.199065  0.437168 -0.688731\n",
       "B  0.292956 -0.072711 -0.013516 -1.457686\n",
       "C  0.367696 -0.494104 -0.108670  1.920631\n",
       "D -1.015418  0.201318  1.257544 -0.671363"
      ]
     },
     "execution_count": 240,
     "metadata": {},
     "output_type": "execute_result"
    }
   ],
   "source": [
    "df.drop('E',axis=0,inplace=True)\n",
    "df"
   ]
  },
  {
   "cell_type": "code",
   "execution_count": 242,
   "id": "f1d01e06-689b-4ef6-bdcc-cbf32dbdac7b",
   "metadata": {},
   "outputs": [],
   "source": [
    "df['new']=df['$']+df['#']"
   ]
  },
  {
   "cell_type": "code",
   "execution_count": 244,
   "id": "7f57db17-0655-4651-ae40-a84b496dd855",
   "metadata": {},
   "outputs": [
    {
     "data": {
      "text/html": [
       "<div>\n",
       "<style scoped>\n",
       "    .dataframe tbody tr th:only-of-type {\n",
       "        vertical-align: middle;\n",
       "    }\n",
       "\n",
       "    .dataframe tbody tr th {\n",
       "        vertical-align: top;\n",
       "    }\n",
       "\n",
       "    .dataframe thead th {\n",
       "        text-align: right;\n",
       "    }\n",
       "</style>\n",
       "<table border=\"1\" class=\"dataframe\">\n",
       "  <thead>\n",
       "    <tr style=\"text-align: right;\">\n",
       "      <th></th>\n",
       "      <th>#</th>\n",
       "      <th>$</th>\n",
       "      <th>%</th>\n",
       "      <th>^</th>\n",
       "      <th>new</th>\n",
       "    </tr>\n",
       "  </thead>\n",
       "  <tbody>\n",
       "    <tr>\n",
       "      <th>A</th>\n",
       "      <td>-0.649301</td>\n",
       "      <td>1.199065</td>\n",
       "      <td>0.437168</td>\n",
       "      <td>-0.688731</td>\n",
       "      <td>0.549764</td>\n",
       "    </tr>\n",
       "    <tr>\n",
       "      <th>B</th>\n",
       "      <td>0.292956</td>\n",
       "      <td>-0.072711</td>\n",
       "      <td>-0.013516</td>\n",
       "      <td>-1.457686</td>\n",
       "      <td>0.220245</td>\n",
       "    </tr>\n",
       "    <tr>\n",
       "      <th>C</th>\n",
       "      <td>0.367696</td>\n",
       "      <td>-0.494104</td>\n",
       "      <td>-0.108670</td>\n",
       "      <td>1.920631</td>\n",
       "      <td>-0.126408</td>\n",
       "    </tr>\n",
       "    <tr>\n",
       "      <th>D</th>\n",
       "      <td>-1.015418</td>\n",
       "      <td>0.201318</td>\n",
       "      <td>1.257544</td>\n",
       "      <td>-0.671363</td>\n",
       "      <td>-0.814100</td>\n",
       "    </tr>\n",
       "  </tbody>\n",
       "</table>\n",
       "</div>"
      ],
      "text/plain": [
       "          #         $         %         ^       new\n",
       "A -0.649301  1.199065  0.437168 -0.688731  0.549764\n",
       "B  0.292956 -0.072711 -0.013516 -1.457686  0.220245\n",
       "C  0.367696 -0.494104 -0.108670  1.920631 -0.126408\n",
       "D -1.015418  0.201318  1.257544 -0.671363 -0.814100"
      ]
     },
     "execution_count": 244,
     "metadata": {},
     "output_type": "execute_result"
    }
   ],
   "source": [
    "df"
   ]
  },
  {
   "cell_type": "markdown",
   "id": "0f5b44de-63c4-4304-b3f2-3bb8188f9c80",
   "metadata": {},
   "source": [
    "## apply condition"
   ]
  },
  {
   "cell_type": "code",
   "execution_count": 260,
   "id": "aeaf32ff-59d5-4a42-b5e0-221138b11d7e",
   "metadata": {},
   "outputs": [
    {
     "data": {
      "text/html": [
       "<div>\n",
       "<style scoped>\n",
       "    .dataframe tbody tr th:only-of-type {\n",
       "        vertical-align: middle;\n",
       "    }\n",
       "\n",
       "    .dataframe tbody tr th {\n",
       "        vertical-align: top;\n",
       "    }\n",
       "\n",
       "    .dataframe thead th {\n",
       "        text-align: right;\n",
       "    }\n",
       "</style>\n",
       "<table border=\"1\" class=\"dataframe\">\n",
       "  <thead>\n",
       "    <tr style=\"text-align: right;\">\n",
       "      <th></th>\n",
       "      <th>@</th>\n",
       "      <th>#</th>\n",
       "      <th>$</th>\n",
       "      <th>%</th>\n",
       "      <th>^</th>\n",
       "    </tr>\n",
       "  </thead>\n",
       "  <tbody>\n",
       "    <tr>\n",
       "      <th>A</th>\n",
       "      <td>-0.804961</td>\n",
       "      <td>-0.282603</td>\n",
       "      <td>0.031441</td>\n",
       "      <td>-1.154067</td>\n",
       "      <td>0.087961</td>\n",
       "    </tr>\n",
       "    <tr>\n",
       "      <th>B</th>\n",
       "      <td>-0.106644</td>\n",
       "      <td>-0.262541</td>\n",
       "      <td>0.139950</td>\n",
       "      <td>-1.538722</td>\n",
       "      <td>1.297108</td>\n",
       "    </tr>\n",
       "    <tr>\n",
       "      <th>C</th>\n",
       "      <td>0.738118</td>\n",
       "      <td>1.443248</td>\n",
       "      <td>0.046959</td>\n",
       "      <td>-0.445737</td>\n",
       "      <td>0.631887</td>\n",
       "    </tr>\n",
       "    <tr>\n",
       "      <th>D</th>\n",
       "      <td>-1.425992</td>\n",
       "      <td>-0.215432</td>\n",
       "      <td>-0.590315</td>\n",
       "      <td>1.905088</td>\n",
       "      <td>0.952670</td>\n",
       "    </tr>\n",
       "    <tr>\n",
       "      <th>E</th>\n",
       "      <td>-0.432973</td>\n",
       "      <td>-0.730569</td>\n",
       "      <td>-1.093725</td>\n",
       "      <td>0.437599</td>\n",
       "      <td>-0.761883</td>\n",
       "    </tr>\n",
       "  </tbody>\n",
       "</table>\n",
       "</div>"
      ],
      "text/plain": [
       "          @         #         $         %         ^\n",
       "A -0.804961 -0.282603  0.031441 -1.154067  0.087961\n",
       "B -0.106644 -0.262541  0.139950 -1.538722  1.297108\n",
       "C  0.738118  1.443248  0.046959 -0.445737  0.631887\n",
       "D -1.425992 -0.215432 -0.590315  1.905088  0.952670\n",
       "E -0.432973 -0.730569 -1.093725  0.437599 -0.761883"
      ]
     },
     "execution_count": 260,
     "metadata": {},
     "output_type": "execute_result"
    }
   ],
   "source": [
    "df"
   ]
  },
  {
   "cell_type": "code",
   "execution_count": 264,
   "id": "08ae2251-249e-4bfe-956d-14d8b1c8fe5e",
   "metadata": {},
   "outputs": [
    {
     "data": {
      "text/html": [
       "<div>\n",
       "<style scoped>\n",
       "    .dataframe tbody tr th:only-of-type {\n",
       "        vertical-align: middle;\n",
       "    }\n",
       "\n",
       "    .dataframe tbody tr th {\n",
       "        vertical-align: top;\n",
       "    }\n",
       "\n",
       "    .dataframe thead th {\n",
       "        text-align: right;\n",
       "    }\n",
       "</style>\n",
       "<table border=\"1\" class=\"dataframe\">\n",
       "  <thead>\n",
       "    <tr style=\"text-align: right;\">\n",
       "      <th></th>\n",
       "      <th>@</th>\n",
       "      <th>#</th>\n",
       "      <th>$</th>\n",
       "      <th>%</th>\n",
       "      <th>^</th>\n",
       "    </tr>\n",
       "  </thead>\n",
       "  <tbody>\n",
       "    <tr>\n",
       "      <th>A</th>\n",
       "      <td>False</td>\n",
       "      <td>False</td>\n",
       "      <td>True</td>\n",
       "      <td>False</td>\n",
       "      <td>True</td>\n",
       "    </tr>\n",
       "    <tr>\n",
       "      <th>B</th>\n",
       "      <td>False</td>\n",
       "      <td>False</td>\n",
       "      <td>True</td>\n",
       "      <td>False</td>\n",
       "      <td>True</td>\n",
       "    </tr>\n",
       "    <tr>\n",
       "      <th>C</th>\n",
       "      <td>True</td>\n",
       "      <td>True</td>\n",
       "      <td>True</td>\n",
       "      <td>False</td>\n",
       "      <td>True</td>\n",
       "    </tr>\n",
       "    <tr>\n",
       "      <th>D</th>\n",
       "      <td>False</td>\n",
       "      <td>False</td>\n",
       "      <td>False</td>\n",
       "      <td>True</td>\n",
       "      <td>True</td>\n",
       "    </tr>\n",
       "    <tr>\n",
       "      <th>E</th>\n",
       "      <td>False</td>\n",
       "      <td>False</td>\n",
       "      <td>False</td>\n",
       "      <td>True</td>\n",
       "      <td>False</td>\n",
       "    </tr>\n",
       "  </tbody>\n",
       "</table>\n",
       "</div>"
      ],
      "text/plain": [
       "       @      #      $      %      ^\n",
       "A  False  False   True  False   True\n",
       "B  False  False   True  False   True\n",
       "C   True   True   True  False   True\n",
       "D  False  False  False   True   True\n",
       "E  False  False  False   True  False"
      ]
     },
     "execution_count": 264,
     "metadata": {},
     "output_type": "execute_result"
    }
   ],
   "source": [
    "df>0"
   ]
  },
  {
   "cell_type": "code",
   "execution_count": 266,
   "id": "038a14ba-780e-4105-87c7-75326b6f238d",
   "metadata": {},
   "outputs": [
    {
     "data": {
      "text/html": [
       "<div>\n",
       "<style scoped>\n",
       "    .dataframe tbody tr th:only-of-type {\n",
       "        vertical-align: middle;\n",
       "    }\n",
       "\n",
       "    .dataframe tbody tr th {\n",
       "        vertical-align: top;\n",
       "    }\n",
       "\n",
       "    .dataframe thead th {\n",
       "        text-align: right;\n",
       "    }\n",
       "</style>\n",
       "<table border=\"1\" class=\"dataframe\">\n",
       "  <thead>\n",
       "    <tr style=\"text-align: right;\">\n",
       "      <th></th>\n",
       "      <th>@</th>\n",
       "      <th>#</th>\n",
       "      <th>$</th>\n",
       "      <th>%</th>\n",
       "      <th>^</th>\n",
       "    </tr>\n",
       "  </thead>\n",
       "  <tbody>\n",
       "    <tr>\n",
       "      <th>A</th>\n",
       "      <td>NaN</td>\n",
       "      <td>NaN</td>\n",
       "      <td>0.031441</td>\n",
       "      <td>NaN</td>\n",
       "      <td>0.087961</td>\n",
       "    </tr>\n",
       "    <tr>\n",
       "      <th>B</th>\n",
       "      <td>NaN</td>\n",
       "      <td>NaN</td>\n",
       "      <td>0.139950</td>\n",
       "      <td>NaN</td>\n",
       "      <td>1.297108</td>\n",
       "    </tr>\n",
       "    <tr>\n",
       "      <th>C</th>\n",
       "      <td>0.738118</td>\n",
       "      <td>1.443248</td>\n",
       "      <td>0.046959</td>\n",
       "      <td>NaN</td>\n",
       "      <td>0.631887</td>\n",
       "    </tr>\n",
       "    <tr>\n",
       "      <th>D</th>\n",
       "      <td>NaN</td>\n",
       "      <td>NaN</td>\n",
       "      <td>NaN</td>\n",
       "      <td>1.905088</td>\n",
       "      <td>0.952670</td>\n",
       "    </tr>\n",
       "    <tr>\n",
       "      <th>E</th>\n",
       "      <td>NaN</td>\n",
       "      <td>NaN</td>\n",
       "      <td>NaN</td>\n",
       "      <td>0.437599</td>\n",
       "      <td>NaN</td>\n",
       "    </tr>\n",
       "  </tbody>\n",
       "</table>\n",
       "</div>"
      ],
      "text/plain": [
       "          @         #         $         %         ^\n",
       "A       NaN       NaN  0.031441       NaN  0.087961\n",
       "B       NaN       NaN  0.139950       NaN  1.297108\n",
       "C  0.738118  1.443248  0.046959       NaN  0.631887\n",
       "D       NaN       NaN       NaN  1.905088  0.952670\n",
       "E       NaN       NaN       NaN  0.437599       NaN"
      ]
     },
     "execution_count": 266,
     "metadata": {},
     "output_type": "execute_result"
    }
   ],
   "source": [
    "df[df>0]"
   ]
  },
  {
   "cell_type": "code",
   "execution_count": 269,
   "id": "8f17d5bc-6ef8-484b-806b-3ccbbf683f0a",
   "metadata": {},
   "outputs": [
    {
     "data": {
      "text/plain": [
       "A    False\n",
       "B    False\n",
       "C     True\n",
       "D    False\n",
       "E    False\n",
       "Name: @, dtype: bool"
      ]
     },
     "execution_count": 269,
     "metadata": {},
     "output_type": "execute_result"
    }
   ],
   "source": [
    "df['@']>0"
   ]
  },
  {
   "cell_type": "code",
   "execution_count": 273,
   "id": "9a231d23-68ae-4668-8420-84a8e2805f01",
   "metadata": {},
   "outputs": [
    {
     "data": {
      "text/html": [
       "<div>\n",
       "<style scoped>\n",
       "    .dataframe tbody tr th:only-of-type {\n",
       "        vertical-align: middle;\n",
       "    }\n",
       "\n",
       "    .dataframe tbody tr th {\n",
       "        vertical-align: top;\n",
       "    }\n",
       "\n",
       "    .dataframe thead th {\n",
       "        text-align: right;\n",
       "    }\n",
       "</style>\n",
       "<table border=\"1\" class=\"dataframe\">\n",
       "  <thead>\n",
       "    <tr style=\"text-align: right;\">\n",
       "      <th></th>\n",
       "      <th>@</th>\n",
       "      <th>#</th>\n",
       "      <th>$</th>\n",
       "      <th>%</th>\n",
       "      <th>^</th>\n",
       "    </tr>\n",
       "  </thead>\n",
       "  <tbody>\n",
       "    <tr>\n",
       "      <th>C</th>\n",
       "      <td>0.738118</td>\n",
       "      <td>1.443248</td>\n",
       "      <td>0.046959</td>\n",
       "      <td>-0.445737</td>\n",
       "      <td>0.631887</td>\n",
       "    </tr>\n",
       "  </tbody>\n",
       "</table>\n",
       "</div>"
      ],
      "text/plain": [
       "          @         #         $         %         ^\n",
       "C  0.738118  1.443248  0.046959 -0.445737  0.631887"
      ]
     },
     "execution_count": 273,
     "metadata": {},
     "output_type": "execute_result"
    }
   ],
   "source": [
    "df[df['@']>0]"
   ]
  },
  {
   "cell_type": "code",
   "execution_count": 275,
   "id": "e708e214-2c8e-418b-a824-0a9e481590d7",
   "metadata": {},
   "outputs": [
    {
     "data": {
      "text/html": [
       "<div>\n",
       "<style scoped>\n",
       "    .dataframe tbody tr th:only-of-type {\n",
       "        vertical-align: middle;\n",
       "    }\n",
       "\n",
       "    .dataframe tbody tr th {\n",
       "        vertical-align: top;\n",
       "    }\n",
       "\n",
       "    .dataframe thead th {\n",
       "        text-align: right;\n",
       "    }\n",
       "</style>\n",
       "<table border=\"1\" class=\"dataframe\">\n",
       "  <thead>\n",
       "    <tr style=\"text-align: right;\">\n",
       "      <th></th>\n",
       "      <th>@</th>\n",
       "      <th>#</th>\n",
       "      <th>$</th>\n",
       "      <th>%</th>\n",
       "      <th>^</th>\n",
       "    </tr>\n",
       "  </thead>\n",
       "  <tbody>\n",
       "    <tr>\n",
       "      <th>A</th>\n",
       "      <td>-0.804961</td>\n",
       "      <td>-0.282603</td>\n",
       "      <td>0.031441</td>\n",
       "      <td>-1.154067</td>\n",
       "      <td>0.087961</td>\n",
       "    </tr>\n",
       "    <tr>\n",
       "      <th>B</th>\n",
       "      <td>-0.106644</td>\n",
       "      <td>-0.262541</td>\n",
       "      <td>0.139950</td>\n",
       "      <td>-1.538722</td>\n",
       "      <td>1.297108</td>\n",
       "    </tr>\n",
       "    <tr>\n",
       "      <th>C</th>\n",
       "      <td>0.738118</td>\n",
       "      <td>1.443248</td>\n",
       "      <td>0.046959</td>\n",
       "      <td>-0.445737</td>\n",
       "      <td>0.631887</td>\n",
       "    </tr>\n",
       "  </tbody>\n",
       "</table>\n",
       "</div>"
      ],
      "text/plain": [
       "          @         #         $         %         ^\n",
       "A -0.804961 -0.282603  0.031441 -1.154067  0.087961\n",
       "B -0.106644 -0.262541  0.139950 -1.538722  1.297108\n",
       "C  0.738118  1.443248  0.046959 -0.445737  0.631887"
      ]
     },
     "execution_count": 275,
     "metadata": {},
     "output_type": "execute_result"
    }
   ],
   "source": [
    "df[df['$']>0]"
   ]
  },
  {
   "cell_type": "code",
   "execution_count": 285,
   "id": "8c515e41-c6ee-46ba-8906-b557c996aaff",
   "metadata": {},
   "outputs": [
    {
     "data": {
      "text/html": [
       "<div>\n",
       "<style scoped>\n",
       "    .dataframe tbody tr th:only-of-type {\n",
       "        vertical-align: middle;\n",
       "    }\n",
       "\n",
       "    .dataframe tbody tr th {\n",
       "        vertical-align: top;\n",
       "    }\n",
       "\n",
       "    .dataframe thead th {\n",
       "        text-align: right;\n",
       "    }\n",
       "</style>\n",
       "<table border=\"1\" class=\"dataframe\">\n",
       "  <thead>\n",
       "    <tr style=\"text-align: right;\">\n",
       "      <th></th>\n",
       "      <th>@</th>\n",
       "      <th>#</th>\n",
       "      <th>$</th>\n",
       "      <th>%</th>\n",
       "      <th>^</th>\n",
       "    </tr>\n",
       "  </thead>\n",
       "  <tbody>\n",
       "    <tr>\n",
       "      <th>A</th>\n",
       "      <td>-0.804961</td>\n",
       "      <td>-0.282603</td>\n",
       "      <td>0.031441</td>\n",
       "      <td>-1.154067</td>\n",
       "      <td>0.087961</td>\n",
       "    </tr>\n",
       "    <tr>\n",
       "      <th>B</th>\n",
       "      <td>-0.106644</td>\n",
       "      <td>-0.262541</td>\n",
       "      <td>0.139950</td>\n",
       "      <td>-1.538722</td>\n",
       "      <td>1.297108</td>\n",
       "    </tr>\n",
       "    <tr>\n",
       "      <th>C</th>\n",
       "      <td>0.738118</td>\n",
       "      <td>1.443248</td>\n",
       "      <td>0.046959</td>\n",
       "      <td>-0.445737</td>\n",
       "      <td>0.631887</td>\n",
       "    </tr>\n",
       "  </tbody>\n",
       "</table>\n",
       "</div>"
      ],
      "text/plain": [
       "          @         #         $         %         ^\n",
       "A -0.804961 -0.282603  0.031441 -1.154067  0.087961\n",
       "B -0.106644 -0.262541  0.139950 -1.538722  1.297108\n",
       "C  0.738118  1.443248  0.046959 -0.445737  0.631887"
      ]
     },
     "execution_count": 285,
     "metadata": {},
     "output_type": "execute_result"
    }
   ],
   "source": [
    "df[(df['$']>0)|(df['#']>0)]"
   ]
  },
  {
   "cell_type": "code",
   "execution_count": 287,
   "id": "47d5dc22-9518-4856-a370-a6b07a215f17",
   "metadata": {},
   "outputs": [
    {
     "data": {
      "text/html": [
       "<div>\n",
       "<style scoped>\n",
       "    .dataframe tbody tr th:only-of-type {\n",
       "        vertical-align: middle;\n",
       "    }\n",
       "\n",
       "    .dataframe tbody tr th {\n",
       "        vertical-align: top;\n",
       "    }\n",
       "\n",
       "    .dataframe thead th {\n",
       "        text-align: right;\n",
       "    }\n",
       "</style>\n",
       "<table border=\"1\" class=\"dataframe\">\n",
       "  <thead>\n",
       "    <tr style=\"text-align: right;\">\n",
       "      <th></th>\n",
       "      <th>@</th>\n",
       "      <th>#</th>\n",
       "      <th>$</th>\n",
       "      <th>%</th>\n",
       "      <th>^</th>\n",
       "    </tr>\n",
       "  </thead>\n",
       "  <tbody>\n",
       "    <tr>\n",
       "      <th>C</th>\n",
       "      <td>0.738118</td>\n",
       "      <td>1.443248</td>\n",
       "      <td>0.046959</td>\n",
       "      <td>-0.445737</td>\n",
       "      <td>0.631887</td>\n",
       "    </tr>\n",
       "  </tbody>\n",
       "</table>\n",
       "</div>"
      ],
      "text/plain": [
       "          @         #         $         %         ^\n",
       "C  0.738118  1.443248  0.046959 -0.445737  0.631887"
      ]
     },
     "execution_count": 287,
     "metadata": {},
     "output_type": "execute_result"
    }
   ],
   "source": [
    " df[(df['$']>0)&(df['#']>0)]"
   ]
  },
  {
   "cell_type": "code",
   "execution_count": 13,
   "id": "93501286-048c-4ab1-9ab5-36a951146323",
   "metadata": {},
   "outputs": [
    {
     "data": {
      "text/html": [
       "<div>\n",
       "<style scoped>\n",
       "    .dataframe tbody tr th:only-of-type {\n",
       "        vertical-align: middle;\n",
       "    }\n",
       "\n",
       "    .dataframe tbody tr th {\n",
       "        vertical-align: top;\n",
       "    }\n",
       "\n",
       "    .dataframe thead th {\n",
       "        text-align: right;\n",
       "    }\n",
       "</style>\n",
       "<table border=\"1\" class=\"dataframe\">\n",
       "  <thead>\n",
       "    <tr style=\"text-align: right;\">\n",
       "      <th></th>\n",
       "      <th>@</th>\n",
       "      <th>$</th>\n",
       "    </tr>\n",
       "  </thead>\n",
       "  <tbody>\n",
       "    <tr>\n",
       "      <th>B</th>\n",
       "      <td>1.095210</td>\n",
       "      <td>-1.368982</td>\n",
       "    </tr>\n",
       "    <tr>\n",
       "      <th>E</th>\n",
       "      <td>-0.218995</td>\n",
       "      <td>0.378528</td>\n",
       "    </tr>\n",
       "  </tbody>\n",
       "</table>\n",
       "</div>"
      ],
      "text/plain": [
       "          @         $\n",
       "B  1.095210 -1.368982\n",
       "E -0.218995  0.378528"
      ]
     },
     "execution_count": 13,
     "metadata": {},
     "output_type": "execute_result"
    }
   ],
   "source": [
    "df[df['%']>0][['@','$']]"
   ]
  },
  {
   "cell_type": "markdown",
   "id": "ce35346c-18d1-48c0-b254-5356edd25acc",
   "metadata": {},
   "source": [
    "## multi index"
   ]
  },
  {
   "cell_type": "code",
   "execution_count": 20,
   "id": "92720135-e7ad-4495-aa1a-ca6e06d91fb4",
   "metadata": {},
   "outputs": [],
   "source": [
    "out_number = ['G1','G1','G1','G2','G2','G2']\n",
    "in_number= [1,2,3,1,2,3]\n",
    "a = list(zip(out_number,in_number))\n",
    "a= pd.MultiIndex.from_tuples(a)"
   ]
  },
  {
   "cell_type": "code",
   "execution_count": 22,
   "id": "55884f7a-de6a-4bda-a930-420fd2664f5c",
   "metadata": {},
   "outputs": [
    {
     "data": {
      "text/plain": [
       "MultiIndex([('G1', 1),\n",
       "            ('G1', 2),\n",
       "            ('G1', 3),\n",
       "            ('G2', 1),\n",
       "            ('G2', 2),\n",
       "            ('G2', 3)],\n",
       "           )"
      ]
     },
     "execution_count": 22,
     "metadata": {},
     "output_type": "execute_result"
    }
   ],
   "source": [
    "a"
   ]
  },
  {
   "cell_type": "code",
   "execution_count": 30,
   "id": "06560d7b-c4bb-424a-b513-8094d937db93",
   "metadata": {},
   "outputs": [],
   "source": [
    "out_number = ['G1','G1','G1','G2','G2','G2']\n",
    "in_number= [1,2,3,1,2,3]\n",
    "b= list(zip(out_number,in_number))\n",
    "b= pd.MultiIndex.from_tuples(a)"
   ]
  },
  {
   "cell_type": "code",
   "execution_count": 32,
   "id": "e99193a5-7cb6-477f-b484-ab17bb180f5b",
   "metadata": {},
   "outputs": [
    {
     "data": {
      "text/plain": [
       "MultiIndex([('G1', 1),\n",
       "            ('G1', 2),\n",
       "            ('G1', 3),\n",
       "            ('G2', 1),\n",
       "            ('G2', 2),\n",
       "            ('G2', 3)],\n",
       "           )"
      ]
     },
     "execution_count": 32,
     "metadata": {},
     "output_type": "execute_result"
    }
   ],
   "source": [
    "b"
   ]
  },
  {
   "cell_type": "code",
   "execution_count": 65,
   "id": "74f00956-5ae1-4d16-a708-f9824ba522a7",
   "metadata": {},
   "outputs": [
    {
     "data": {
      "text/html": [
       "<div>\n",
       "<style scoped>\n",
       "    .dataframe tbody tr th:only-of-type {\n",
       "        vertical-align: middle;\n",
       "    }\n",
       "\n",
       "    .dataframe tbody tr th {\n",
       "        vertical-align: top;\n",
       "    }\n",
       "\n",
       "    .dataframe thead th {\n",
       "        text-align: right;\n",
       "    }\n",
       "</style>\n",
       "<table border=\"1\" class=\"dataframe\">\n",
       "  <thead>\n",
       "    <tr style=\"text-align: right;\">\n",
       "      <th></th>\n",
       "      <th></th>\n",
       "      <th>$</th>\n",
       "      <th>@</th>\n",
       "      <th>#</th>\n",
       "      <th>*</th>\n",
       "    </tr>\n",
       "  </thead>\n",
       "  <tbody>\n",
       "    <tr>\n",
       "      <th rowspan=\"3\" valign=\"top\">G1</th>\n",
       "      <th>1</th>\n",
       "      <td>-1.083450</td>\n",
       "      <td>-0.620927</td>\n",
       "      <td>0.295631</td>\n",
       "      <td>-0.125035</td>\n",
       "    </tr>\n",
       "    <tr>\n",
       "      <th>2</th>\n",
       "      <td>0.482244</td>\n",
       "      <td>0.845536</td>\n",
       "      <td>1.147897</td>\n",
       "      <td>0.299140</td>\n",
       "    </tr>\n",
       "    <tr>\n",
       "      <th>3</th>\n",
       "      <td>1.098071</td>\n",
       "      <td>0.053107</td>\n",
       "      <td>-0.830484</td>\n",
       "      <td>0.574053</td>\n",
       "    </tr>\n",
       "    <tr>\n",
       "      <th rowspan=\"3\" valign=\"top\">G2</th>\n",
       "      <th>1</th>\n",
       "      <td>0.820138</td>\n",
       "      <td>1.279440</td>\n",
       "      <td>-2.007495</td>\n",
       "      <td>-0.725142</td>\n",
       "    </tr>\n",
       "    <tr>\n",
       "      <th>2</th>\n",
       "      <td>-1.169742</td>\n",
       "      <td>0.814842</td>\n",
       "      <td>-1.159823</td>\n",
       "      <td>-1.601048</td>\n",
       "    </tr>\n",
       "    <tr>\n",
       "      <th>3</th>\n",
       "      <td>0.149229</td>\n",
       "      <td>1.884882</td>\n",
       "      <td>1.031405</td>\n",
       "      <td>-1.787932</td>\n",
       "    </tr>\n",
       "  </tbody>\n",
       "</table>\n",
       "</div>"
      ],
      "text/plain": [
       "             $         @         #         *\n",
       "G1 1 -1.083450 -0.620927  0.295631 -0.125035\n",
       "   2  0.482244  0.845536  1.147897  0.299140\n",
       "   3  1.098071  0.053107 -0.830484  0.574053\n",
       "G2 1  0.820138  1.279440 -2.007495 -0.725142\n",
       "   2 -1.169742  0.814842 -1.159823 -1.601048\n",
       "   3  0.149229  1.884882  1.031405 -1.787932"
      ]
     },
     "execution_count": 65,
     "metadata": {},
     "output_type": "execute_result"
    }
   ],
   "source": [
    "fd=pd.DataFrame(np.random.randn(6,4),index=b,columns=['$','@','#','*'])\n",
    "fd"
   ]
  },
  {
   "cell_type": "code",
   "execution_count": 45,
   "id": "c3887832-0361-4a7e-9d33-c48f7d80ef78",
   "metadata": {},
   "outputs": [
    {
     "data": {
      "text/html": [
       "<div>\n",
       "<style scoped>\n",
       "    .dataframe tbody tr th:only-of-type {\n",
       "        vertical-align: middle;\n",
       "    }\n",
       "\n",
       "    .dataframe tbody tr th {\n",
       "        vertical-align: top;\n",
       "    }\n",
       "\n",
       "    .dataframe thead th {\n",
       "        text-align: right;\n",
       "    }\n",
       "</style>\n",
       "<table border=\"1\" class=\"dataframe\">\n",
       "  <thead>\n",
       "    <tr style=\"text-align: right;\">\n",
       "      <th></th>\n",
       "      <th></th>\n",
       "      <th>A</th>\n",
       "      <th>B</th>\n",
       "    </tr>\n",
       "  </thead>\n",
       "  <tbody>\n",
       "    <tr>\n",
       "      <th rowspan=\"3\" valign=\"top\">G1</th>\n",
       "      <th>1</th>\n",
       "      <td>0.870415</td>\n",
       "      <td>0.748973</td>\n",
       "    </tr>\n",
       "    <tr>\n",
       "      <th>2</th>\n",
       "      <td>0.709533</td>\n",
       "      <td>0.316149</td>\n",
       "    </tr>\n",
       "    <tr>\n",
       "      <th>3</th>\n",
       "      <td>-0.778214</td>\n",
       "      <td>-0.535962</td>\n",
       "    </tr>\n",
       "    <tr>\n",
       "      <th rowspan=\"3\" valign=\"top\">G2</th>\n",
       "      <th>1</th>\n",
       "      <td>-1.173832</td>\n",
       "      <td>-0.934796</td>\n",
       "    </tr>\n",
       "    <tr>\n",
       "      <th>2</th>\n",
       "      <td>-1.100040</td>\n",
       "      <td>-0.027994</td>\n",
       "    </tr>\n",
       "    <tr>\n",
       "      <th>3</th>\n",
       "      <td>-0.640622</td>\n",
       "      <td>0.424231</td>\n",
       "    </tr>\n",
       "  </tbody>\n",
       "</table>\n",
       "</div>"
      ],
      "text/plain": [
       "             A         B\n",
       "G1 1  0.870415  0.748973\n",
       "   2  0.709533  0.316149\n",
       "   3 -0.778214 -0.535962\n",
       "G2 1 -1.173832 -0.934796\n",
       "   2 -1.100040 -0.027994\n",
       "   3 -0.640622  0.424231"
      ]
     },
     "execution_count": 45,
     "metadata": {},
     "output_type": "execute_result"
    }
   ],
   "source": [
    "df = pd.DataFrame(np.random.randn(6,2),index=a,columns=['A','B'])\n",
    "df"
   ]
  },
  {
   "cell_type": "code",
   "execution_count": 67,
   "id": "736ca8d4-61de-4ba4-b612-35c24f36d442",
   "metadata": {},
   "outputs": [
    {
     "data": {
      "text/html": [
       "<div>\n",
       "<style scoped>\n",
       "    .dataframe tbody tr th:only-of-type {\n",
       "        vertical-align: middle;\n",
       "    }\n",
       "\n",
       "    .dataframe tbody tr th {\n",
       "        vertical-align: top;\n",
       "    }\n",
       "\n",
       "    .dataframe thead th {\n",
       "        text-align: right;\n",
       "    }\n",
       "</style>\n",
       "<table border=\"1\" class=\"dataframe\">\n",
       "  <thead>\n",
       "    <tr style=\"text-align: right;\">\n",
       "      <th></th>\n",
       "      <th>$</th>\n",
       "      <th>@</th>\n",
       "      <th>#</th>\n",
       "      <th>*</th>\n",
       "    </tr>\n",
       "  </thead>\n",
       "  <tbody>\n",
       "    <tr>\n",
       "      <th>1</th>\n",
       "      <td>0.820138</td>\n",
       "      <td>1.279440</td>\n",
       "      <td>-2.007495</td>\n",
       "      <td>-0.725142</td>\n",
       "    </tr>\n",
       "    <tr>\n",
       "      <th>2</th>\n",
       "      <td>-1.169742</td>\n",
       "      <td>0.814842</td>\n",
       "      <td>-1.159823</td>\n",
       "      <td>-1.601048</td>\n",
       "    </tr>\n",
       "    <tr>\n",
       "      <th>3</th>\n",
       "      <td>0.149229</td>\n",
       "      <td>1.884882</td>\n",
       "      <td>1.031405</td>\n",
       "      <td>-1.787932</td>\n",
       "    </tr>\n",
       "  </tbody>\n",
       "</table>\n",
       "</div>"
      ],
      "text/plain": [
       "          $         @         #         *\n",
       "1  0.820138  1.279440 -2.007495 -0.725142\n",
       "2 -1.169742  0.814842 -1.159823 -1.601048\n",
       "3  0.149229  1.884882  1.031405 -1.787932"
      ]
     },
     "execution_count": 67,
     "metadata": {},
     "output_type": "execute_result"
    }
   ],
   "source": [
    "fd.loc['G2']"
   ]
  },
  {
   "cell_type": "code",
   "execution_count": 69,
   "id": "54e0c7b4-c84f-4f3a-92ce-9b01d98b375a",
   "metadata": {},
   "outputs": [
    {
     "data": {
      "text/html": [
       "<div>\n",
       "<style scoped>\n",
       "    .dataframe tbody tr th:only-of-type {\n",
       "        vertical-align: middle;\n",
       "    }\n",
       "\n",
       "    .dataframe tbody tr th {\n",
       "        vertical-align: top;\n",
       "    }\n",
       "\n",
       "    .dataframe thead th {\n",
       "        text-align: right;\n",
       "    }\n",
       "</style>\n",
       "<table border=\"1\" class=\"dataframe\">\n",
       "  <thead>\n",
       "    <tr style=\"text-align: right;\">\n",
       "      <th></th>\n",
       "      <th></th>\n",
       "      <th>$</th>\n",
       "      <th>@</th>\n",
       "      <th>#</th>\n",
       "      <th>*</th>\n",
       "    </tr>\n",
       "  </thead>\n",
       "  <tbody>\n",
       "    <tr>\n",
       "      <th rowspan=\"3\" valign=\"top\">G1</th>\n",
       "      <th>1</th>\n",
       "      <td>-1.083450</td>\n",
       "      <td>-0.620927</td>\n",
       "      <td>0.295631</td>\n",
       "      <td>-0.125035</td>\n",
       "    </tr>\n",
       "    <tr>\n",
       "      <th>2</th>\n",
       "      <td>0.482244</td>\n",
       "      <td>0.845536</td>\n",
       "      <td>1.147897</td>\n",
       "      <td>0.299140</td>\n",
       "    </tr>\n",
       "    <tr>\n",
       "      <th>3</th>\n",
       "      <td>1.098071</td>\n",
       "      <td>0.053107</td>\n",
       "      <td>-0.830484</td>\n",
       "      <td>0.574053</td>\n",
       "    </tr>\n",
       "    <tr>\n",
       "      <th rowspan=\"3\" valign=\"top\">G2</th>\n",
       "      <th>1</th>\n",
       "      <td>0.820138</td>\n",
       "      <td>1.279440</td>\n",
       "      <td>-2.007495</td>\n",
       "      <td>-0.725142</td>\n",
       "    </tr>\n",
       "    <tr>\n",
       "      <th>2</th>\n",
       "      <td>-1.169742</td>\n",
       "      <td>0.814842</td>\n",
       "      <td>-1.159823</td>\n",
       "      <td>-1.601048</td>\n",
       "    </tr>\n",
       "    <tr>\n",
       "      <th>3</th>\n",
       "      <td>0.149229</td>\n",
       "      <td>1.884882</td>\n",
       "      <td>1.031405</td>\n",
       "      <td>-1.787932</td>\n",
       "    </tr>\n",
       "  </tbody>\n",
       "</table>\n",
       "</div>"
      ],
      "text/plain": [
       "             $         @         #         *\n",
       "G1 1 -1.083450 -0.620927  0.295631 -0.125035\n",
       "   2  0.482244  0.845536  1.147897  0.299140\n",
       "   3  1.098071  0.053107 -0.830484  0.574053\n",
       "G2 1  0.820138  1.279440 -2.007495 -0.725142\n",
       "   2 -1.169742  0.814842 -1.159823 -1.601048\n",
       "   3  0.149229  1.884882  1.031405 -1.787932"
      ]
     },
     "execution_count": 69,
     "metadata": {},
     "output_type": "execute_result"
    }
   ],
   "source": [
    "fd"
   ]
  },
  {
   "cell_type": "code",
   "execution_count": 81,
   "id": "ea36e755-e01b-43ae-854c-57354e675548",
   "metadata": {},
   "outputs": [],
   "source": [
    "fd.index.names=['no','value']"
   ]
  },
  {
   "cell_type": "code",
   "execution_count": 83,
   "id": "570429cb-cf8e-471a-9c50-9f6e10039177",
   "metadata": {},
   "outputs": [
    {
     "data": {
      "text/html": [
       "<div>\n",
       "<style scoped>\n",
       "    .dataframe tbody tr th:only-of-type {\n",
       "        vertical-align: middle;\n",
       "    }\n",
       "\n",
       "    .dataframe tbody tr th {\n",
       "        vertical-align: top;\n",
       "    }\n",
       "\n",
       "    .dataframe thead th {\n",
       "        text-align: right;\n",
       "    }\n",
       "</style>\n",
       "<table border=\"1\" class=\"dataframe\">\n",
       "  <thead>\n",
       "    <tr style=\"text-align: right;\">\n",
       "      <th></th>\n",
       "      <th></th>\n",
       "      <th>$</th>\n",
       "      <th>@</th>\n",
       "      <th>#</th>\n",
       "      <th>*</th>\n",
       "    </tr>\n",
       "    <tr>\n",
       "      <th>no</th>\n",
       "      <th>value</th>\n",
       "      <th></th>\n",
       "      <th></th>\n",
       "      <th></th>\n",
       "      <th></th>\n",
       "    </tr>\n",
       "  </thead>\n",
       "  <tbody>\n",
       "    <tr>\n",
       "      <th rowspan=\"3\" valign=\"top\">G1</th>\n",
       "      <th>1</th>\n",
       "      <td>-1.083450</td>\n",
       "      <td>-0.620927</td>\n",
       "      <td>0.295631</td>\n",
       "      <td>-0.125035</td>\n",
       "    </tr>\n",
       "    <tr>\n",
       "      <th>2</th>\n",
       "      <td>0.482244</td>\n",
       "      <td>0.845536</td>\n",
       "      <td>1.147897</td>\n",
       "      <td>0.299140</td>\n",
       "    </tr>\n",
       "    <tr>\n",
       "      <th>3</th>\n",
       "      <td>1.098071</td>\n",
       "      <td>0.053107</td>\n",
       "      <td>-0.830484</td>\n",
       "      <td>0.574053</td>\n",
       "    </tr>\n",
       "    <tr>\n",
       "      <th rowspan=\"3\" valign=\"top\">G2</th>\n",
       "      <th>1</th>\n",
       "      <td>0.820138</td>\n",
       "      <td>1.279440</td>\n",
       "      <td>-2.007495</td>\n",
       "      <td>-0.725142</td>\n",
       "    </tr>\n",
       "    <tr>\n",
       "      <th>2</th>\n",
       "      <td>-1.169742</td>\n",
       "      <td>0.814842</td>\n",
       "      <td>-1.159823</td>\n",
       "      <td>-1.601048</td>\n",
       "    </tr>\n",
       "    <tr>\n",
       "      <th>3</th>\n",
       "      <td>0.149229</td>\n",
       "      <td>1.884882</td>\n",
       "      <td>1.031405</td>\n",
       "      <td>-1.787932</td>\n",
       "    </tr>\n",
       "  </tbody>\n",
       "</table>\n",
       "</div>"
      ],
      "text/plain": [
       "                 $         @         #         *\n",
       "no value                                        \n",
       "G1 1     -1.083450 -0.620927  0.295631 -0.125035\n",
       "   2      0.482244  0.845536  1.147897  0.299140\n",
       "   3      1.098071  0.053107 -0.830484  0.574053\n",
       "G2 1      0.820138  1.279440 -2.007495 -0.725142\n",
       "   2     -1.169742  0.814842 -1.159823 -1.601048\n",
       "   3      0.149229  1.884882  1.031405 -1.787932"
      ]
     },
     "execution_count": 83,
     "metadata": {},
     "output_type": "execute_result"
    }
   ],
   "source": [
    "fd"
   ]
  },
  {
   "cell_type": "code",
   "execution_count": 85,
   "id": "2b1c33c0-955a-4715-bed1-131bd4e91247",
   "metadata": {},
   "outputs": [
    {
     "data": {
      "text/html": [
       "<div>\n",
       "<style scoped>\n",
       "    .dataframe tbody tr th:only-of-type {\n",
       "        vertical-align: middle;\n",
       "    }\n",
       "\n",
       "    .dataframe tbody tr th {\n",
       "        vertical-align: top;\n",
       "    }\n",
       "\n",
       "    .dataframe thead th {\n",
       "        text-align: right;\n",
       "    }\n",
       "</style>\n",
       "<table border=\"1\" class=\"dataframe\">\n",
       "  <thead>\n",
       "    <tr style=\"text-align: right;\">\n",
       "      <th></th>\n",
       "      <th>$</th>\n",
       "      <th>@</th>\n",
       "      <th>#</th>\n",
       "      <th>*</th>\n",
       "    </tr>\n",
       "    <tr>\n",
       "      <th>value</th>\n",
       "      <th></th>\n",
       "      <th></th>\n",
       "      <th></th>\n",
       "      <th></th>\n",
       "    </tr>\n",
       "  </thead>\n",
       "  <tbody>\n",
       "    <tr>\n",
       "      <th>1</th>\n",
       "      <td>0.820138</td>\n",
       "      <td>1.279440</td>\n",
       "      <td>-2.007495</td>\n",
       "      <td>-0.725142</td>\n",
       "    </tr>\n",
       "    <tr>\n",
       "      <th>2</th>\n",
       "      <td>-1.169742</td>\n",
       "      <td>0.814842</td>\n",
       "      <td>-1.159823</td>\n",
       "      <td>-1.601048</td>\n",
       "    </tr>\n",
       "    <tr>\n",
       "      <th>3</th>\n",
       "      <td>0.149229</td>\n",
       "      <td>1.884882</td>\n",
       "      <td>1.031405</td>\n",
       "      <td>-1.787932</td>\n",
       "    </tr>\n",
       "  </tbody>\n",
       "</table>\n",
       "</div>"
      ],
      "text/plain": [
       "              $         @         #         *\n",
       "value                                        \n",
       "1      0.820138  1.279440 -2.007495 -0.725142\n",
       "2     -1.169742  0.814842 -1.159823 -1.601048\n",
       "3      0.149229  1.884882  1.031405 -1.787932"
      ]
     },
     "execution_count": 85,
     "metadata": {},
     "output_type": "execute_result"
    }
   ],
   "source": [
    "fd.xs('G2')"
   ]
  },
  {
   "cell_type": "code",
   "execution_count": 91,
   "id": "63734572-978e-44d1-a544-4b59678ac074",
   "metadata": {},
   "outputs": [
    {
     "data": {
      "text/plain": [
       "$    0.820138\n",
       "@    1.279440\n",
       "#   -2.007495\n",
       "*   -0.725142\n",
       "Name: (G2, 1), dtype: float64"
      ]
     },
     "execution_count": 91,
     "metadata": {},
     "output_type": "execute_result"
    }
   ],
   "source": [
    "fd.xs(('G2',1))"
   ]
  },
  {
   "cell_type": "code",
   "execution_count": 95,
   "id": "0173f904-817f-4b06-8319-319e825de43d",
   "metadata": {},
   "outputs": [
    {
     "ename": "SyntaxError",
     "evalue": "invalid syntax. Maybe you meant '==' or ':=' instead of '='? (3732392981.py, line 1)",
     "output_type": "error",
     "traceback": [
      "\u001b[1;36m  Cell \u001b[1;32mIn[95], line 1\u001b[1;36m\u001b[0m\n\u001b[1;33m    fd.xs((1,level='value'))\u001b[0m\n\u001b[1;37m             ^\u001b[0m\n\u001b[1;31mSyntaxError\u001b[0m\u001b[1;31m:\u001b[0m invalid syntax. Maybe you meant '==' or ':=' instead of '='?\n"
     ]
    }
   ],
   "source": [
    "fd.xs((1,level='value'))"
   ]
  },
  {
   "cell_type": "code",
   "execution_count": null,
   "id": "5093c17e-3db7-4601-ac4d-87063ede5c0c",
   "metadata": {},
   "outputs": [],
   "source": []
  }
 ],
 "metadata": {
  "kernelspec": {
   "display_name": "Python [conda env:anaconda3]",
   "language": "python",
   "name": "conda-env-anaconda3-py"
  },
  "language_info": {
   "codemirror_mode": {
    "name": "ipython",
    "version": 3
   },
   "file_extension": ".py",
   "mimetype": "text/x-python",
   "name": "python",
   "nbconvert_exporter": "python",
   "pygments_lexer": "ipython3",
   "version": "3.12.7"
  }
 },
 "nbformat": 4,
 "nbformat_minor": 5
}
