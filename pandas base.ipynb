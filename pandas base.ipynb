{
 "cells": [
  {
   "cell_type": "code",
   "execution_count": 1,
   "id": "429606a1-5f65-43e0-bf2e-2eef41f7d998",
   "metadata": {},
   "outputs": [],
   "source": [
    "import numpy as np\n",
    "import pandas as pd"
   ]
  },
  {
   "cell_type": "code",
   "execution_count": 6,
   "id": "26a79717-26c2-4feb-86ba-afbb02d9f43c",
   "metadata": {},
   "outputs": [],
   "source": [
    "list1=[1,2,3,4,5,6]\n",
    "symbel=['@','#','$','%','^','*']"
   ]
  },
  {
   "cell_type": "code",
   "execution_count": 4,
   "id": "da21a0ba-619e-4a11-8f02-555e22b5ec98",
   "metadata": {},
   "outputs": [
    {
     "data": {
      "text/plain": [
       "0    1\n",
       "1    2\n",
       "2    3\n",
       "3    4\n",
       "4    5\n",
       "5    6\n",
       "dtype: int64"
      ]
     },
     "execution_count": 4,
     "metadata": {},
     "output_type": "execute_result"
    }
   ],
   "source": [
    "pd.Series(data=list1)"
   ]
  },
  {
   "cell_type": "code",
   "execution_count": 7,
   "id": "0d22dfd5-5ab5-40b8-af0f-a9d754059f28",
   "metadata": {},
   "outputs": [
    {
     "data": {
      "text/plain": [
       "@    1\n",
       "#    2\n",
       "$    3\n",
       "%    4\n",
       "^    5\n",
       "*    6\n",
       "dtype: int64"
      ]
     },
     "execution_count": 7,
     "metadata": {},
     "output_type": "execute_result"
    }
   ],
   "source": [
    "pd.Series(data=list1,index=symbel)"
   ]
  },
  {
   "cell_type": "code",
   "execution_count": 8,
   "id": "c6693b14-58b8-44c6-bfc3-3e2805a4e387",
   "metadata": {},
   "outputs": [
    {
     "data": {
      "text/plain": [
       "1    @\n",
       "2    #\n",
       "3    $\n",
       "4    %\n",
       "5    ^\n",
       "6    *\n",
       "dtype: object"
      ]
     },
     "execution_count": 8,
     "metadata": {},
     "output_type": "execute_result"
    }
   ],
   "source": [
    "pd.Series(symbel,list1)"
   ]
  },
  {
   "cell_type": "code",
   "execution_count": 10,
   "id": "f60da772-a943-42fd-8008-c62476964041",
   "metadata": {},
   "outputs": [],
   "source": [
    "c=np.array([2,3,5,5,4,1])"
   ]
  },
  {
   "cell_type": "code",
   "execution_count": 11,
   "id": "41c20d15-4a1f-4af9-848b-dc615c532d12",
   "metadata": {},
   "outputs": [
    {
     "data": {
      "text/plain": [
       "array([2, 3, 5, 5, 4, 1])"
      ]
     },
     "execution_count": 11,
     "metadata": {},
     "output_type": "execute_result"
    }
   ],
   "source": [
    "c"
   ]
  },
  {
   "cell_type": "code",
   "execution_count": 12,
   "id": "4865d4ce-acb2-44cd-a6d5-40f211204bcc",
   "metadata": {},
   "outputs": [
    {
     "data": {
      "text/plain": [
       "1    2\n",
       "2    3\n",
       "3    5\n",
       "4    5\n",
       "5    4\n",
       "6    1\n",
       "dtype: int32"
      ]
     },
     "execution_count": 12,
     "metadata": {},
     "output_type": "execute_result"
    }
   ],
   "source": [
    "pd.Series(c,list1)"
   ]
  },
  {
   "cell_type": "code",
   "execution_count": 15,
   "id": "c79d31ba-b14e-4450-86a0-4db4065a233b",
   "metadata": {},
   "outputs": [
    {
     "ename": "SyntaxError",
     "evalue": "invalid syntax (242499018.py, line 1)",
     "output_type": "error",
     "traceback": [
      "\u001b[1;36m  Cell \u001b[1;32mIn[15], line 1\u001b[1;36m\u001b[0m\n\u001b[1;33m    dic=['a':3,'b':5,'c':2]\u001b[0m\n\u001b[1;37m            ^\u001b[0m\n\u001b[1;31mSyntaxError\u001b[0m\u001b[1;31m:\u001b[0m invalid syntax\n"
     ]
    }
   ],
   "source": [
    "dic={'a':3,'b':5,'c':2]"
   ]
  },
  {
   "cell_type": "code",
   "execution_count": 14,
   "id": "6c3f03e9-98cd-45c6-958f-5894d0e00580",
   "metadata": {},
   "outputs": [
    {
     "data": {
      "text/plain": [
       "0    a\n",
       "1    3\n",
       "2    b\n",
       "3    5\n",
       "4    c\n",
       "5    2\n",
       "dtype: object"
      ]
     },
     "execution_count": 14,
     "metadata": {},
     "output_type": "execute_result"
    }
   ],
   "source": [
    "pd.Series(dic)"
   ]
  },
  {
   "cell_type": "code",
   "execution_count": null,
   "id": "401a13d4-dd58-4dd0-a856-e49b96a95f1a",
   "metadata": {},
   "outputs": [],
   "source": []
  }
 ],
 "metadata": {
  "kernelspec": {
   "display_name": "Python 3 (ipykernel)",
   "language": "python",
   "name": "python3"
  },
  "language_info": {
   "codemirror_mode": {
    "name": "ipython",
    "version": 3
   },
   "file_extension": ".py",
   "mimetype": "text/x-python",
   "name": "python",
   "nbconvert_exporter": "python",
   "pygments_lexer": "ipython3",
   "version": "3.12.7"
  }
 },
 "nbformat": 4,
 "nbformat_minor": 5
}
