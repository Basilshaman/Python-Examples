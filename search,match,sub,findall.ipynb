{
 "cells": [
  {
   "cell_type": "code",
   "execution_count": 9,
   "id": "5dbcf775-6246-45b3-a457-32547b3502c4",
   "metadata": {},
   "outputs": [],
   "source": [
    "import re\n"
   ]
  },
  {
   "cell_type": "markdown",
   "id": "14b224dc-85fa-445a-8b0c-305605b3030e",
   "metadata": {},
   "source": [
    "search and match"
   ]
  },
  {
   "cell_type": "code",
   "execution_count": 11,
   "id": "88037452-9a8b-4934-9820-bf3c324e0e20",
   "metadata": {},
   "outputs": [
    {
     "name": "stdout",
     "output_type": "stream",
     "text": [
      "<re.Match object; span=(0, 8), match='basilsha'>\n"
     ]
    }
   ],
   "source": [
    "name=r'\\w{8}'\n",
    "print(re.search(name,'basilshaman'))\n"
   ]
  },
  {
   "cell_type": "code",
   "execution_count": 15,
   "id": "89427a78-b7a7-4ac2-aca1-e92f9f4ec265",
   "metadata": {},
   "outputs": [
    {
     "name": "stdout",
     "output_type": "stream",
     "text": [
      "<re.Match object; span=(0, 8), match='basilsha'>\n"
     ]
    }
   ],
   "source": [
    "name=r'\\w{8}'\n",
    "print(re.match(name,'basilshaman'))"
   ]
  },
  {
   "cell_type": "code",
   "execution_count": 17,
   "id": "13995edf-b718-4562-8f4f-8b1d22273ea5",
   "metadata": {},
   "outputs": [
    {
     "name": "stdout",
     "output_type": "stream",
     "text": [
      "<re.Match object; span=(0, 8), match='pablogav'>\n"
     ]
    }
   ],
   "source": [
    "name=r'\\w{8}'\n",
    "print(re.match(name,'pablogavi is a football player'))"
   ]
  },
  {
   "cell_type": "markdown",
   "id": "3d6c37c9-ebe6-48a7-a755-c6629accb4d3",
   "metadata": {},
   "source": [
    "search and findall\n"
   ]
  },
  {
   "cell_type": "code",
   "execution_count": 25,
   "id": "e0a3ea9e-0e98-4feb-84d4-f4a8dc8958b4",
   "metadata": {},
   "outputs": [
    {
     "name": "stdout",
     "output_type": "stream",
     "text": [
      "<re.Match object; span=(10, 18), match='football'>\n"
     ]
    }
   ],
   "source": [
    "name=r'\\w{8}'\n",
    "print(re.search(name,'gavi is a football player football football'))"
   ]
  },
  {
   "cell_type": "code",
   "execution_count": 29,
   "id": "593b8b23-e11c-4138-8c57-9900d5fd3ffa",
   "metadata": {},
   "outputs": [
    {
     "name": "stdout",
     "output_type": "stream",
     "text": [
      "['football', 'football', 'football']\n"
     ]
    }
   ],
   "source": [
    "name=r'\\w{8}'\n",
    "print(re.findall(name,'gavi is a footballplayer football football'))"
   ]
  },
  {
   "cell_type": "code",
   "execution_count": 31,
   "id": "92654e9a-901a-4d1e-bb02-54eb7f5c76e5",
   "metadata": {},
   "outputs": [
    {
     "name": "stdout",
     "output_type": "stream",
     "text": [
      "['football', 'football']\n"
     ]
    }
   ],
   "source": [
    "name=r'\\b\\w{8}\\b'\n",
    "print(re.findall(name,'gavi is a footballplayer football football'))"
   ]
  },
  {
   "cell_type": "markdown",
   "id": "4d0bfbd4-bcd3-438a-8316-be59b8dda2ef",
   "metadata": {},
   "source": [
    "sub"
   ]
  },
  {
   "cell_type": "code",
   "execution_count": 50,
   "id": "1782f816-1f0e-4530-9ab3-8f1f6d5fc946",
   "metadata": {},
   "outputs": [
    {
     "name": "stdout",
     "output_type": "stream",
     "text": [
      "b:a:s:i:l::\n"
     ]
    }
   ],
   "source": [
    "name=r'[,.\\s]'\n",
    "print(re.sub(name,':','b,a,s,i.l .'))"
   ]
  },
  {
   "cell_type": "code",
   "execution_count": 52,
   "id": "3669f163-a6d6-41ca-b2a9-a872ff6d0074",
   "metadata": {},
   "outputs": [
    {
     "name": "stdout",
     "output_type": "stream",
     "text": [
      "b a s i l  \n"
     ]
    }
   ],
   "source": [
    "name=r'[,.\\s]'\n",
    "print(re.sub(name,' ','b,a,s,i.l .'))"
   ]
  },
  {
   "cell_type": "code",
   "execution_count": 54,
   "id": "cee0b1a1-a8f9-4031-8ef5-e69ee0161f9f",
   "metadata": {},
   "outputs": [
    {
     "name": "stdout",
     "output_type": "stream",
     "text": [
      "b*a*s*i*l**\n"
     ]
    }
   ],
   "source": [
    "name=r'[,.\\s]'\n",
    "print(re.sub(name,'*','b,a,s,i.l .'))"
   ]
  },
  {
   "cell_type": "code",
   "execution_count": 56,
   "id": "c509955b-9989-4da8-b77f-aba44b0e7a27",
   "metadata": {},
   "outputs": [
    {
     "name": "stdout",
     "output_type": "stream",
     "text": [
      "b^a^s^i^l^^\n"
     ]
    }
   ],
   "source": [
    "name=r'[,.\\s]'\n",
    "print(re.sub(name,'^','b,a,s,i.l .'))"
   ]
  },
  {
   "cell_type": "code",
   "execution_count": 58,
   "id": "fb52b77a-0ce1-4986-a5f1-d57b9a359886",
   "metadata": {},
   "outputs": [
    {
     "name": "stdout",
     "output_type": "stream",
     "text": [
      "b%a%s%i%l%%\n"
     ]
    }
   ],
   "source": [
    "name=r'[,.\\s]'\n",
    "print(re.sub(name,'%','b,a,s,i.l .'))"
   ]
  },
  {
   "cell_type": "code",
   "execution_count": null,
   "id": "78d3e3c4-da10-4843-8682-40dedec761b1",
   "metadata": {},
   "outputs": [],
   "source": []
  }
 ],
 "metadata": {
  "kernelspec": {
   "display_name": "Python [conda env:anaconda3]",
   "language": "python",
   "name": "conda-env-anaconda3-py"
  },
  "language_info": {
   "codemirror_mode": {
    "name": "ipython",
    "version": 3
   },
   "file_extension": ".py",
   "mimetype": "text/x-python",
   "name": "python",
   "nbconvert_exporter": "python",
   "pygments_lexer": "ipython3",
   "version": "3.12.7"
  }
 },
 "nbformat": 4,
 "nbformat_minor": 5
}
